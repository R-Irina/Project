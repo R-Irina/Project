{
 "cells": [
  {
   "cell_type": "code",
   "execution_count": 1,
   "id": "c03a41a5",
   "metadata": {},
   "outputs": [
    {
     "name": "stdout",
     "output_type": "stream",
     "text": [
      "Requirement already satisfied: folium in c:\\programdata\\anaconda3\\lib\\site-packages (0.12.1.post1)\n",
      "Requirement already satisfied: requests in c:\\programdata\\anaconda3\\lib\\site-packages (from folium) (2.25.1)\n",
      "Requirement already satisfied: jinja2>=2.9 in c:\\programdata\\anaconda3\\lib\\site-packages (from folium) (2.11.3)\n",
      "Requirement already satisfied: numpy in c:\\programdata\\anaconda3\\lib\\site-packages (from folium) (1.20.1)\n",
      "Requirement already satisfied: branca>=0.3.0 in c:\\programdata\\anaconda3\\lib\\site-packages (from folium) (0.4.2)\n",
      "Requirement already satisfied: MarkupSafe>=0.23 in c:\\programdata\\anaconda3\\lib\\site-packages (from jinja2>=2.9->folium) (1.1.1)\n",
      "Requirement already satisfied: chardet<5,>=3.0.2 in c:\\programdata\\anaconda3\\lib\\site-packages (from requests->folium) (4.0.0)\n",
      "Requirement already satisfied: idna<3,>=2.5 in c:\\programdata\\anaconda3\\lib\\site-packages (from requests->folium) (2.10)\n",
      "Requirement already satisfied: urllib3<1.27,>=1.21.1 in c:\\programdata\\anaconda3\\lib\\site-packages (from requests->folium) (1.26.4)\n",
      "Requirement already satisfied: certifi>=2017.4.17 in c:\\programdata\\anaconda3\\lib\\site-packages (from requests->folium) (2020.12.5)\n"
     ]
    }
   ],
   "source": [
    "!pip3 install folium"
   ]
  },
  {
   "cell_type": "code",
   "execution_count": 59,
   "id": "d6636f92",
   "metadata": {},
   "outputs": [],
   "source": [
    "import numpy as np\n",
    "import pandas as pd\n",
    "import matplotlib.pyplot as plt\n",
    "from matplotlib.ticker import FormatStrFormatter\n",
    "\n",
    "import datetime\n",
    "from sklearn.model_selection import train_test_split\n",
    "from sklearn.metrics import mean_squared_error\n",
    "from math import sqrt\n",
    "#from sklearn.linear_model import LinearRegression\n",
    "#from sklearn.ensemble import GradientBoostingRegressor\n",
    "from sklearn.ensemble import RandomForestRegressor\n",
    "\n",
    "def make_date(df):\n",
    "  return datetime.date(df.YEAR, df.MONTH, df.DAY)\n",
    "\n",
    "def make_features(data, max_lag, rolling_mean_size):\n",
    "    data['year'] = data.dDate.dt.year\n",
    "    data['month'] = data.dDate.dt.month\n",
    "    data['day'] = data.dDate.dt.day\n",
    "    data['dayofweek'] = data.dDate.dt.dayofweek\n",
    "    for lag in range(1, max_lag + 1):\n",
    "        data['lag_{}'.format(lag)] = data['ARRIVAL_DELAY'].shift(lag)"
   ]
  },
  {
   "cell_type": "code",
   "execution_count": 3,
   "id": "7ebdc1aa",
   "metadata": {},
   "outputs": [],
   "source": [
    "df_L_airport = pd.read_csv('L_AIRPORT.csv', dtype={'CODE':str})\n",
    "df_L_airport_ID = pd.read_csv('L_AIRPORT_ID.csv', dtype={'CODE':str})"
   ]
  },
  {
   "cell_type": "code",
   "execution_count": 4,
   "id": "1fa7e0b4",
   "metadata": {},
   "outputs": [],
   "source": [
    "df_L_airport =  df_L_airport_ID.merge(df_L_airport, on=\"Description\", how='inner')\n",
    "df_L_airport.Code_x = df_L_airport.Code_x.astype(str)\n",
    "\n",
    "df_L_airport.rename(columns={'Code_x': 'Code_num', 'Code_y': 'Code_IATA'}, inplace=True)\n",
    "df_L_airport = df_L_airport.drop_duplicates(subset=['Code_num'])\n",
    "df_L_airport.reset_index(drop=True, inplace=True)"
   ]
  },
  {
   "cell_type": "code",
   "execution_count": 5,
   "id": "7d3132af",
   "metadata": {},
   "outputs": [
    {
     "name": "stdout",
     "output_type": "stream",
     "text": [
      "<class 'pandas.core.frame.DataFrame'>\n",
      "RangeIndex: 6383 entries, 0 to 6382\n",
      "Data columns (total 3 columns):\n",
      " #   Column       Non-Null Count  Dtype \n",
      "---  ------       --------------  ----- \n",
      " 0   Code_num     6383 non-null   object\n",
      " 1   Description  6383 non-null   object\n",
      " 2   Code_IATA    6383 non-null   object\n",
      "dtypes: object(3)\n",
      "memory usage: 149.7+ KB\n"
     ]
    }
   ],
   "source": [
    "df_L_airport.info()"
   ]
  },
  {
   "cell_type": "code",
   "execution_count": 6,
   "id": "a1626a7b",
   "metadata": {},
   "outputs": [
    {
     "data": {
      "text/html": [
       "<div>\n",
       "<style scoped>\n",
       "    .dataframe tbody tr th:only-of-type {\n",
       "        vertical-align: middle;\n",
       "    }\n",
       "\n",
       "    .dataframe tbody tr th {\n",
       "        vertical-align: top;\n",
       "    }\n",
       "\n",
       "    .dataframe thead th {\n",
       "        text-align: right;\n",
       "    }\n",
       "</style>\n",
       "<table border=\"1\" class=\"dataframe\">\n",
       "  <thead>\n",
       "    <tr style=\"text-align: right;\">\n",
       "      <th></th>\n",
       "      <th>Code_num</th>\n",
       "      <th>Description</th>\n",
       "      <th>Code_IATA</th>\n",
       "    </tr>\n",
       "  </thead>\n",
       "  <tbody>\n",
       "    <tr>\n",
       "      <th>0</th>\n",
       "      <td>10001</td>\n",
       "      <td>Afognak Lake, AK: Afognak Lake Airport</td>\n",
       "      <td>01A</td>\n",
       "    </tr>\n",
       "    <tr>\n",
       "      <th>1</th>\n",
       "      <td>10003</td>\n",
       "      <td>Granite Mountain, AK: Bear Creek Mining Strip</td>\n",
       "      <td>03A</td>\n",
       "    </tr>\n",
       "    <tr>\n",
       "      <th>2</th>\n",
       "      <td>10004</td>\n",
       "      <td>Lik, AK: Lik Mining Camp</td>\n",
       "      <td>04A</td>\n",
       "    </tr>\n",
       "    <tr>\n",
       "      <th>3</th>\n",
       "      <td>10005</td>\n",
       "      <td>Little Squaw, AK: Little Squaw Airport</td>\n",
       "      <td>05A</td>\n",
       "    </tr>\n",
       "    <tr>\n",
       "      <th>4</th>\n",
       "      <td>10006</td>\n",
       "      <td>Kizhuyak, AK: Kizhuyak Bay</td>\n",
       "      <td>06A</td>\n",
       "    </tr>\n",
       "    <tr>\n",
       "      <th>...</th>\n",
       "      <td>...</td>\n",
       "      <td>...</td>\n",
       "      <td>...</td>\n",
       "    </tr>\n",
       "    <tr>\n",
       "      <th>6378</th>\n",
       "      <td>16748</td>\n",
       "      <td>Doylestown, PA: Doylestown Airport</td>\n",
       "      <td>DYL</td>\n",
       "    </tr>\n",
       "    <tr>\n",
       "      <th>6379</th>\n",
       "      <td>16749</td>\n",
       "      <td>China Spring, TX: Wildcat Canyon</td>\n",
       "      <td>T7X</td>\n",
       "    </tr>\n",
       "    <tr>\n",
       "      <th>6380</th>\n",
       "      <td>16750</td>\n",
       "      <td>Sanford, NC: Raleigh Exec Jetport at Sanford L...</td>\n",
       "      <td>N4C</td>\n",
       "    </tr>\n",
       "    <tr>\n",
       "      <th>6381</th>\n",
       "      <td>16751</td>\n",
       "      <td>Placida, FL: Coral Creek</td>\n",
       "      <td>FL7</td>\n",
       "    </tr>\n",
       "    <tr>\n",
       "      <th>6382</th>\n",
       "      <td>99999</td>\n",
       "      <td>Unknown Point in Alaska</td>\n",
       "      <td>ZZZ</td>\n",
       "    </tr>\n",
       "  </tbody>\n",
       "</table>\n",
       "<p>6383 rows × 3 columns</p>\n",
       "</div>"
      ],
      "text/plain": [
       "     Code_num                                        Description Code_IATA\n",
       "0       10001             Afognak Lake, AK: Afognak Lake Airport       01A\n",
       "1       10003      Granite Mountain, AK: Bear Creek Mining Strip       03A\n",
       "2       10004                           Lik, AK: Lik Mining Camp       04A\n",
       "3       10005             Little Squaw, AK: Little Squaw Airport       05A\n",
       "4       10006                         Kizhuyak, AK: Kizhuyak Bay       06A\n",
       "...       ...                                                ...       ...\n",
       "6378    16748                 Doylestown, PA: Doylestown Airport       DYL\n",
       "6379    16749                   China Spring, TX: Wildcat Canyon       T7X\n",
       "6380    16750  Sanford, NC: Raleigh Exec Jetport at Sanford L...       N4C\n",
       "6381    16751                           Placida, FL: Coral Creek       FL7\n",
       "6382    99999                            Unknown Point in Alaska       ZZZ\n",
       "\n",
       "[6383 rows x 3 columns]"
      ]
     },
     "execution_count": 6,
     "metadata": {},
     "output_type": "execute_result"
    }
   ],
   "source": [
    "df_L_airport"
   ]
  },
  {
   "cell_type": "code",
   "execution_count": 7,
   "id": "56eb9158",
   "metadata": {},
   "outputs": [],
   "source": [
    "# Все перелеты\n",
    "df_flights=pd.read_csv('flights.csv', dtype={'ORIGIN_AIRPORT':str, 'DESTINATION_AIRPORT':str})"
   ]
  },
  {
   "cell_type": "code",
   "execution_count": 8,
   "id": "745749fa",
   "metadata": {},
   "outputs": [
    {
     "name": "stdout",
     "output_type": "stream",
     "text": [
      "<class 'pandas.core.frame.DataFrame'>\n",
      "RangeIndex: 5819079 entries, 0 to 5819078\n",
      "Data columns (total 31 columns):\n",
      " #   Column               Dtype  \n",
      "---  ------               -----  \n",
      " 0   YEAR                 int64  \n",
      " 1   MONTH                int64  \n",
      " 2   DAY                  int64  \n",
      " 3   DAY_OF_WEEK          int64  \n",
      " 4   AIRLINE              object \n",
      " 5   FLIGHT_NUMBER        int64  \n",
      " 6   TAIL_NUMBER          object \n",
      " 7   ORIGIN_AIRPORT       object \n",
      " 8   DESTINATION_AIRPORT  object \n",
      " 9   SCHEDULED_DEPARTURE  int64  \n",
      " 10  DEPARTURE_TIME       float64\n",
      " 11  DEPARTURE_DELAY      float64\n",
      " 12  TAXI_OUT             float64\n",
      " 13  WHEELS_OFF           float64\n",
      " 14  SCHEDULED_TIME       float64\n",
      " 15  ELAPSED_TIME         float64\n",
      " 16  AIR_TIME             float64\n",
      " 17  DISTANCE             int64  \n",
      " 18  WHEELS_ON            float64\n",
      " 19  TAXI_IN              float64\n",
      " 20  SCHEDULED_ARRIVAL    int64  \n",
      " 21  ARRIVAL_TIME         float64\n",
      " 22  ARRIVAL_DELAY        float64\n",
      " 23  DIVERTED             int64  \n",
      " 24  CANCELLED            int64  \n",
      " 25  CANCELLATION_REASON  object \n",
      " 26  AIR_SYSTEM_DELAY     float64\n",
      " 27  SECURITY_DELAY       float64\n",
      " 28  AIRLINE_DELAY        float64\n",
      " 29  LATE_AIRCRAFT_DELAY  float64\n",
      " 30  WEATHER_DELAY        float64\n",
      "dtypes: float64(16), int64(10), object(5)\n",
      "memory usage: 1.3+ GB\n"
     ]
    }
   ],
   "source": [
    "df_flights.info()"
   ]
  },
  {
   "cell_type": "code",
   "execution_count": 9,
   "id": "386f58b6",
   "metadata": {},
   "outputs": [
    {
     "data": {
      "text/plain": [
       "YEAR                         0\n",
       "MONTH                        0\n",
       "DAY                          0\n",
       "DAY_OF_WEEK                  0\n",
       "AIRLINE                      0\n",
       "FLIGHT_NUMBER                0\n",
       "TAIL_NUMBER              14721\n",
       "ORIGIN_AIRPORT               0\n",
       "DESTINATION_AIRPORT          0\n",
       "SCHEDULED_DEPARTURE          0\n",
       "DEPARTURE_TIME           86153\n",
       "DEPARTURE_DELAY          86153\n",
       "TAXI_OUT                 89047\n",
       "WHEELS_OFF               89047\n",
       "SCHEDULED_TIME               6\n",
       "ELAPSED_TIME            105071\n",
       "AIR_TIME                105071\n",
       "DISTANCE                     0\n",
       "WHEELS_ON                92513\n",
       "TAXI_IN                  92513\n",
       "SCHEDULED_ARRIVAL            0\n",
       "ARRIVAL_TIME             92513\n",
       "ARRIVAL_DELAY           105071\n",
       "DIVERTED                     0\n",
       "CANCELLED                    0\n",
       "CANCELLATION_REASON    5729195\n",
       "AIR_SYSTEM_DELAY       4755640\n",
       "SECURITY_DELAY         4755640\n",
       "AIRLINE_DELAY          4755640\n",
       "LATE_AIRCRAFT_DELAY    4755640\n",
       "WEATHER_DELAY          4755640\n",
       "dtype: int64"
      ]
     },
     "execution_count": 9,
     "metadata": {},
     "output_type": "execute_result"
    }
   ],
   "source": [
    "df_flights.isnull().sum()"
   ]
  },
  {
   "cell_type": "code",
   "execution_count": 10,
   "id": "9accbf0e",
   "metadata": {},
   "outputs": [],
   "source": [
    "# Заменяем на 0 пустые значения\n",
    "df_flights['AIRLINE_DELAY'] = df_flights['AIRLINE_DELAY'].fillna(0)\n",
    "df_flights['AIR_SYSTEM_DELAY'] = df_flights['AIR_SYSTEM_DELAY'].fillna(0)\n",
    "df_flights['SECURITY_DELAY'] = df_flights['SECURITY_DELAY'].fillna(0)\n",
    "df_flights['LATE_AIRCRAFT_DELAY'] = df_flights['LATE_AIRCRAFT_DELAY'].fillna(0)\n",
    "df_flights['WEATHER_DELAY'] = df_flights['WEATHER_DELAY'].fillna(0)\n",
    "\n",
    "# Причины отмены рейсов заменям на коды\n",
    "# NaN = 0 A = 1 B = 2 C = 3 D = 4\n",
    "df_flights.loc[df_flights['CANCELLATION_REASON'] == 'A', 'CANCELLATION_REASON'] = 1\n",
    "df_flights.loc[df_flights['CANCELLATION_REASON'] == 'B', 'CANCELLATION_REASON'] = 2\n",
    "df_flights.loc[df_flights['CANCELLATION_REASON'] == 'C', 'CANCELLATION_REASON'] = 3\n",
    "df_flights.loc[df_flights['CANCELLATION_REASON'] == 'D', 'CANCELLATION_REASON'] = 4\n",
    "df_flights['CANCELLATION_REASON'] = df_flights['CANCELLATION_REASON'].fillna(0)\n",
    "\n",
    "# удаляем оставшиеся пустые строки\n",
    "df_flights = df_flights.dropna(axis=0)"
   ]
  },
  {
   "cell_type": "code",
   "execution_count": 11,
   "id": "27818440",
   "metadata": {},
   "outputs": [
    {
     "name": "stdout",
     "output_type": "stream",
     "text": [
      "<class 'pandas.core.frame.DataFrame'>\n",
      "Int64Index: 5714008 entries, 0 to 5819078\n",
      "Data columns (total 31 columns):\n",
      " #   Column               Dtype  \n",
      "---  ------               -----  \n",
      " 0   YEAR                 int64  \n",
      " 1   MONTH                int64  \n",
      " 2   DAY                  int64  \n",
      " 3   DAY_OF_WEEK          int64  \n",
      " 4   AIRLINE              object \n",
      " 5   FLIGHT_NUMBER        int64  \n",
      " 6   TAIL_NUMBER          object \n",
      " 7   ORIGIN_AIRPORT       object \n",
      " 8   DESTINATION_AIRPORT  object \n",
      " 9   SCHEDULED_DEPARTURE  int64  \n",
      " 10  DEPARTURE_TIME       float64\n",
      " 11  DEPARTURE_DELAY      float64\n",
      " 12  TAXI_OUT             float64\n",
      " 13  WHEELS_OFF           float64\n",
      " 14  SCHEDULED_TIME       float64\n",
      " 15  ELAPSED_TIME         float64\n",
      " 16  AIR_TIME             float64\n",
      " 17  DISTANCE             int64  \n",
      " 18  WHEELS_ON            float64\n",
      " 19  TAXI_IN              float64\n",
      " 20  SCHEDULED_ARRIVAL    int64  \n",
      " 21  ARRIVAL_TIME         float64\n",
      " 22  ARRIVAL_DELAY        float64\n",
      " 23  DIVERTED             int64  \n",
      " 24  CANCELLED            int64  \n",
      " 25  CANCELLATION_REASON  int64  \n",
      " 26  AIR_SYSTEM_DELAY     float64\n",
      " 27  SECURITY_DELAY       float64\n",
      " 28  AIRLINE_DELAY        float64\n",
      " 29  LATE_AIRCRAFT_DELAY  float64\n",
      " 30  WEATHER_DELAY        float64\n",
      "dtypes: float64(16), int64(11), object(4)\n",
      "memory usage: 1.4+ GB\n"
     ]
    }
   ],
   "source": [
    "df_flights.info()"
   ]
  },
  {
   "cell_type": "code",
   "execution_count": 12,
   "id": "683b5ae9",
   "metadata": {},
   "outputs": [],
   "source": [
    "# Замена пятизначных кодов аэропортов на коды IATA\n",
    "df_L_airport.Code_num = df_L_airport.Code_num.astype(str)\n",
    "df_L_airport = df_L_airport.set_index('Code_num')\n",
    "\n",
    "def convert_airports(df):\n",
    "    cond_origin = (df.ORIGIN_AIRPORT.apply(len) == 5)\n",
    "    f= lambda x: df_L_airport.loc[str(x), 'Code_IATA']\n",
    "    df.loc[cond_origin, 'ORIGIN_AIRPORT'] = df.loc[cond_origin, 'ORIGIN_AIRPORT'].map(f)\n",
    "    \n",
    "    cond_dest = (df.DESTINATION_AIRPORT.apply(len) == 5)\n",
    "    df.loc[cond_dest, 'DESTINATION_AIRPORT'] = df.loc[cond_dest, 'DESTINATION_AIRPORT'].map(f)\n",
    "    return df\n",
    "\n",
    "# вызываем функцию для перевода ORIGIN_AIRPORT, DESTINATION_AIRPORT в формат IATA_CODE\n",
    "df_flights = convert_airports(df_flights)"
   ]
  },
  {
   "cell_type": "code",
   "execution_count": 13,
   "id": "ccc63eed",
   "metadata": {},
   "outputs": [
    {
     "data": {
      "text/html": [
       "<div>\n",
       "<style scoped>\n",
       "    .dataframe tbody tr th:only-of-type {\n",
       "        vertical-align: middle;\n",
       "    }\n",
       "\n",
       "    .dataframe tbody tr th {\n",
       "        vertical-align: top;\n",
       "    }\n",
       "\n",
       "    .dataframe thead th {\n",
       "        text-align: right;\n",
       "    }\n",
       "</style>\n",
       "<table border=\"1\" class=\"dataframe\">\n",
       "  <thead>\n",
       "    <tr style=\"text-align: right;\">\n",
       "      <th></th>\n",
       "      <th>YEAR</th>\n",
       "      <th>MONTH</th>\n",
       "      <th>DAY</th>\n",
       "      <th>DAY_OF_WEEK</th>\n",
       "      <th>AIRLINE</th>\n",
       "      <th>FLIGHT_NUMBER</th>\n",
       "      <th>TAIL_NUMBER</th>\n",
       "      <th>ORIGIN_AIRPORT</th>\n",
       "      <th>DESTINATION_AIRPORT</th>\n",
       "      <th>SCHEDULED_DEPARTURE</th>\n",
       "      <th>...</th>\n",
       "      <th>ARRIVAL_TIME</th>\n",
       "      <th>ARRIVAL_DELAY</th>\n",
       "      <th>DIVERTED</th>\n",
       "      <th>CANCELLED</th>\n",
       "      <th>CANCELLATION_REASON</th>\n",
       "      <th>AIR_SYSTEM_DELAY</th>\n",
       "      <th>SECURITY_DELAY</th>\n",
       "      <th>AIRLINE_DELAY</th>\n",
       "      <th>LATE_AIRCRAFT_DELAY</th>\n",
       "      <th>WEATHER_DELAY</th>\n",
       "    </tr>\n",
       "  </thead>\n",
       "  <tbody>\n",
       "  </tbody>\n",
       "</table>\n",
       "<p>0 rows × 31 columns</p>\n",
       "</div>"
      ],
      "text/plain": [
       "Empty DataFrame\n",
       "Columns: [YEAR, MONTH, DAY, DAY_OF_WEEK, AIRLINE, FLIGHT_NUMBER, TAIL_NUMBER, ORIGIN_AIRPORT, DESTINATION_AIRPORT, SCHEDULED_DEPARTURE, DEPARTURE_TIME, DEPARTURE_DELAY, TAXI_OUT, WHEELS_OFF, SCHEDULED_TIME, ELAPSED_TIME, AIR_TIME, DISTANCE, WHEELS_ON, TAXI_IN, SCHEDULED_ARRIVAL, ARRIVAL_TIME, ARRIVAL_DELAY, DIVERTED, CANCELLED, CANCELLATION_REASON, AIR_SYSTEM_DELAY, SECURITY_DELAY, AIRLINE_DELAY, LATE_AIRCRAFT_DELAY, WEATHER_DELAY]\n",
       "Index: []\n",
       "\n",
       "[0 rows x 31 columns]"
      ]
     },
     "execution_count": 13,
     "metadata": {},
     "output_type": "execute_result"
    }
   ],
   "source": [
    "# проверяем, что в перелетах df_flights не осталось 5-значных кодов аэропортов\n",
    "df_flights_num = df_flights[df_flights['ORIGIN_AIRPORT'].str.len().between(4, 6) | df_flights['DESTINATION_AIRPORT'].str.len().between(4, 6)]\n",
    "df_flights_num"
   ]
  },
  {
   "cell_type": "code",
   "execution_count": 14,
   "id": "4a078843",
   "metadata": {},
   "outputs": [],
   "source": [
    "# Аэропорты\n",
    "df_airports = pd.read_csv('airports.csv')"
   ]
  },
  {
   "cell_type": "code",
   "execution_count": 15,
   "id": "086df5b7",
   "metadata": {},
   "outputs": [],
   "source": [
    "# объединяем перелеты с аэропортами отправления\n",
    "df_flights = df_flights.merge(df_airports, left_on='ORIGIN_AIRPORT', right_on='IATA_CODE', how='inner')"
   ]
  },
  {
   "cell_type": "code",
   "execution_count": 16,
   "id": "3719ec8f",
   "metadata": {},
   "outputs": [],
   "source": [
    "df_flights.rename(columns={'AIRPORT': 'ORIG_AIRPORT_NAME', \n",
    "                           'CITY': 'ORIG_AIRPORT_CITY', \n",
    "                           'STATE': 'ORIG_AIRPORT_STATE', \n",
    "                           'LATITUDE': 'ORIG_AIRPORT_LAT', \n",
    "                           'LONGITUDE': 'ORIG_AIRPORT_LONG'}, inplace=True)\n",
    "\n",
    "df_flights = df_flights.drop ('IATA_CODE', axis=1)\n",
    "df_flights = df_flights.drop ('COUNTRY', axis=1)"
   ]
  },
  {
   "cell_type": "code",
   "execution_count": 17,
   "id": "8204ea7e",
   "metadata": {},
   "outputs": [],
   "source": [
    "# Создадим копию датафрейма, чтобы в нем обнулить вылеты ранее расписания\n",
    "fly_airFrom = df_flights.copy(deep=True)"
   ]
  },
  {
   "cell_type": "code",
   "execution_count": 18,
   "id": "abb63841",
   "metadata": {},
   "outputs": [],
   "source": [
    "# Вылеты, совершённые раньше, чем по расписанию, считаем совершёнными по расписанию\n",
    "fly_airFrom['DEPARTURE_DELAY'] = np.maximum(fly_airFrom.DEPARTURE_DELAY, 0)"
   ]
  },
  {
   "cell_type": "code",
   "execution_count": 19,
   "id": "8fa0fc03",
   "metadata": {},
   "outputs": [
    {
     "data": {
      "image/png": "[encoded data removed]",
      "text/plain": [
       "<Figure size 432x288 with 1 Axes>"
      ]
     },
     "metadata": {
      "needs_background": "light"
     },
     "output_type": "display_data"
    }
   ],
   "source": [
    "# Среднее время задержки вылетов в разрезе ТОП-10 аэропортов\n",
    "dep_data = fly_airFrom.groupby('ORIG_AIRPORT_NAME').mean()['DEPARTURE_DELAY'].sort_values(ascending=[False]).tail(10)\n",
    "plt.barh(y = dep_data.index, width = dep_data.values)\n",
    "plt.xlabel(\"Средняя задержка вылетов\")\n",
    "plt.ylabel(\"Аэропорт\")\n",
    "plt.title(\"Средняя задержка вылетов по аэропортам\")\n",
    "plt.show()"
   ]
  },
  {
   "cell_type": "code",
   "execution_count": 20,
   "id": "db666578",
   "metadata": {},
   "outputs": [],
   "source": [
    "dep_data = pd.DataFrame(dep_data)\n",
    "dep_data = dep_data.reset_index()"
   ]
  },
  {
   "cell_type": "code",
   "execution_count": 21,
   "id": "d6b38680",
   "metadata": {},
   "outputs": [
    {
     "data": {
      "text/html": [
       "<div>\n",
       "<style scoped>\n",
       "    .dataframe tbody tr th:only-of-type {\n",
       "        vertical-align: middle;\n",
       "    }\n",
       "\n",
       "    .dataframe tbody tr th {\n",
       "        vertical-align: top;\n",
       "    }\n",
       "\n",
       "    .dataframe thead th {\n",
       "        text-align: right;\n",
       "    }\n",
       "</style>\n",
       "<table border=\"1\" class=\"dataframe\">\n",
       "  <thead>\n",
       "    <tr style=\"text-align: right;\">\n",
       "      <th></th>\n",
       "      <th>ORIG_AIRPORT_NAME</th>\n",
       "      <th>DEPARTURE_DELAY</th>\n",
       "    </tr>\n",
       "  </thead>\n",
       "  <tbody>\n",
       "    <tr>\n",
       "      <th>0</th>\n",
       "      <td>Pocatello Regional Airport</td>\n",
       "      <td>5.829337</td>\n",
       "    </tr>\n",
       "    <tr>\n",
       "      <th>1</th>\n",
       "      <td>Lihue Airport</td>\n",
       "      <td>5.581346</td>\n",
       "    </tr>\n",
       "    <tr>\n",
       "      <th>2</th>\n",
       "      <td>Helena Regional Airport</td>\n",
       "      <td>5.275641</td>\n",
       "    </tr>\n",
       "    <tr>\n",
       "      <th>3</th>\n",
       "      <td>Brainerd Lakes Regional Airport</td>\n",
       "      <td>5.211024</td>\n",
       "    </tr>\n",
       "    <tr>\n",
       "      <th>4</th>\n",
       "      <td>Westerly State Airport</td>\n",
       "      <td>4.778846</td>\n",
       "    </tr>\n",
       "    <tr>\n",
       "      <th>5</th>\n",
       "      <td>Magic Valley Regional Airport (Joslin Field)</td>\n",
       "      <td>4.531390</td>\n",
       "    </tr>\n",
       "    <tr>\n",
       "      <th>6</th>\n",
       "      <td>Elko Regional Airport</td>\n",
       "      <td>4.371930</td>\n",
       "    </tr>\n",
       "    <tr>\n",
       "      <th>7</th>\n",
       "      <td>Hilo International Airport</td>\n",
       "      <td>3.906134</td>\n",
       "    </tr>\n",
       "    <tr>\n",
       "      <th>8</th>\n",
       "      <td>Lewiston-Nez Perce County Airport</td>\n",
       "      <td>2.404056</td>\n",
       "    </tr>\n",
       "    <tr>\n",
       "      <th>9</th>\n",
       "      <td>Canyonlands Field</td>\n",
       "      <td>1.282927</td>\n",
       "    </tr>\n",
       "  </tbody>\n",
       "</table>\n",
       "</div>"
      ],
      "text/plain": [
       "                              ORIG_AIRPORT_NAME  DEPARTURE_DELAY\n",
       "0                    Pocatello Regional Airport         5.829337\n",
       "1                                 Lihue Airport         5.581346\n",
       "2                       Helena Regional Airport         5.275641\n",
       "3               Brainerd Lakes Regional Airport         5.211024\n",
       "4                        Westerly State Airport         4.778846\n",
       "5  Magic Valley Regional Airport (Joslin Field)         4.531390\n",
       "6                         Elko Regional Airport         4.371930\n",
       "7                    Hilo International Airport         3.906134\n",
       "8             Lewiston-Nez Perce County Airport         2.404056\n",
       "9                             Canyonlands Field         1.282927"
      ]
     },
     "execution_count": 21,
     "metadata": {},
     "output_type": "execute_result"
    }
   ],
   "source": [
    "dep_data"
   ]
  },
  {
   "cell_type": "markdown",
   "id": "a1fe5b57",
   "metadata": {},
   "source": [
    "### Вывод: аэропорт с минимальной средней задержкой вылета - Canyonlands Field"
   ]
  },
  {
   "cell_type": "code",
   "execution_count": 22,
   "id": "2c6ba3e9",
   "metadata": {},
   "outputs": [],
   "source": [
    "airport_data = df_airports.loc[df_airports['AIRPORT'].isin(dep_data['ORIG_AIRPORT_NAME'])]"
   ]
  },
  {
   "cell_type": "code",
   "execution_count": 23,
   "id": "f8266a71",
   "metadata": {
    "scrolled": true
   },
   "outputs": [
    {
     "data": {
      "text/html": [
       "<div style=\"width:100%;\"><div style=\"position:relative;width:100%;height:0;padding-bottom:60%;\"><span style=\"color:#565656\">Make this Notebook Trusted to load map: File -> Trust Notebook</span><iframe src=\"about:blank\" style=\"position:absolute;width:100%;height:100%;left:0;top:0;border:none !important;\" data-html=%3C%21DOCTYPE%20html%3E%0A%3Chead%3E%20%20%20%20%0A%20%20%20%20%3Cmeta%20http-equiv%3D%22content-type%22%20content%3D%22text/html%3B%20charset%3DUTF-8%22%20/%3E%0A%20%20%20%20%0A%20%20%20%20%20%20%20%20%3Cscript%3E%0A%20%20%20%20%20%20%20%20%20%20%20%20L_NO_TOUCH%20%3D%20false%3B%0A%20%20%20%20%20%20%20%20%20%20%20%20L_DISABLE_3D%20%3D%20false%3B%0A%20%20%20%20%20%20%20%20%3C/script%3E%0A%20%20%20%20%0A%20%20%20%20%3Cstyle%3Ehtml%2C%20body%20%7Bwidth%3A%20100%25%3Bheight%3A%20100%25%3Bmargin%3A%200%3Bpadding%3A%200%3B%7D%3C/style%3E%0A%20%20%20%20%3Cstyle%3E%23map%20%7Bposition%3Aabsolute%3Btop%3A0%3Bbottom%3A0%3Bright%3A0%3Bleft%3A0%3B%7D%3C/style%3E%0A%20%20%20%20%3Cscript%20src%3D%22https%3A//cdn.jsdelivr.net/npm/leaflet%401.6.0/dist/leaflet.js%22%3E%3C/script%3E%0A%20%20%20%20%3Cscript%20src%3D%22https%3A//code.jquery.com/jquery-1.12.4.min.js%22%3E%3C/script%3E%0A%20%20%20%20%3Cscript%20src%3D%22https%3A//maxcdn.bootstrapcdn.com/bootstrap/3.2.0/js/bootstrap.min.js%22%3E%3C/script%3E%0A%20%20%20%20%3Cscript%20src%3D%22https%3A//cdnjs.cloudflare.com/ajax/libs/Leaflet.awesome-markers/2.0.2/leaflet.awesome-markers.js%22%3E%3C/script%3E%0A%20%20%20%20%3Clink%20rel%3D%22stylesheet%22%20href%3D%22https%3A//cdn.jsdelivr.net/npm/leaflet%401.6.0/dist/leaflet.css%22/%3E%0A%20%20%20%20%3Clink%20rel%3D%22stylesheet%22%20href%3D%22https%3A//maxcdn.bootstrapcdn.com/bootstrap/3.2.0/css/bootstrap.min.css%22/%3E%0A%20%20%20%20%3Clink%20rel%3D%22stylesheet%22%20href%3D%22https%3A//maxcdn.bootstrapcdn.com/bootstrap/3.2.0/css/bootstrap-theme.min.css%22/%3E%0A%20%20%20%20%3Clink%20rel%3D%22stylesheet%22%20href%3D%22https%3A//maxcdn.bootstrapcdn.com/font-awesome/4.6.3/css/font-awesome.min.css%22/%3E%0A%20%20%20%20%3Clink%20rel%3D%22stylesheet%22%20href%3D%22https%3A//cdnjs.cloudflare.com/ajax/libs/Leaflet.awesome-markers/2.0.2/leaflet.awesome-markers.css%22/%3E%0A%20%20%20%20%3Clink%20rel%3D%22stylesheet%22%20href%3D%22https%3A//cdn.jsdelivr.net/gh/python-visualization/folium/folium/templates/leaflet.awesome.rotate.min.css%22/%3E%0A%20%20%20%20%0A%20%20%20%20%20%20%20%20%20%20%20%20%3Cmeta%20name%3D%22viewport%22%20content%3D%22width%3Ddevice-width%2C%0A%20%20%20%20%20%20%20%20%20%20%20%20%20%20%20%20initial-scale%3D1.0%2C%20maximum-scale%3D1.0%2C%20user-scalable%3Dno%22%20/%3E%0A%20%20%20%20%20%20%20%20%20%20%20%20%3Cstyle%3E%0A%20%20%20%20%20%20%20%20%20%20%20%20%20%20%20%20%23map_da89727b252d4d538ad184bdb7ad2e78%20%7B%0A%20%20%20%20%20%20%20%20%20%20%20%20%20%20%20%20%20%20%20%20position%3A%20relative%3B%0A%20%20%20%20%20%20%20%20%20%20%20%20%20%20%20%20%20%20%20%20width%3A%20800.0px%3B%0A%20%20%20%20%20%20%20%20%20%20%20%20%20%20%20%20%20%20%20%20height%3A%20500.0px%3B%0A%20%20%20%20%20%20%20%20%20%20%20%20%20%20%20%20%20%20%20%20left%3A%200.0%25%3B%0A%20%20%20%20%20%20%20%20%20%20%20%20%20%20%20%20%20%20%20%20top%3A%200.0%25%3B%0A%20%20%20%20%20%20%20%20%20%20%20%20%20%20%20%20%7D%0A%20%20%20%20%20%20%20%20%20%20%20%20%3C/style%3E%0A%20%20%20%20%20%20%20%20%0A%3C/head%3E%0A%3Cbody%3E%20%20%20%20%0A%20%20%20%20%0A%20%20%20%20%20%20%20%20%20%20%20%20%3Cdiv%20class%3D%22folium-map%22%20id%3D%22map_da89727b252d4d538ad184bdb7ad2e78%22%20%3E%3C/div%3E%0A%20%20%20%20%20%20%20%20%0A%3C/body%3E%0A%3Cscript%3E%20%20%20%20%0A%20%20%20%20%0A%20%20%20%20%20%20%20%20%20%20%20%20var%20map_da89727b252d4d538ad184bdb7ad2e78%20%3D%20L.map%28%0A%20%20%20%20%20%20%20%20%20%20%20%20%20%20%20%20%22map_da89727b252d4d538ad184bdb7ad2e78%22%2C%0A%20%20%20%20%20%20%20%20%20%20%20%20%20%20%20%20%7B%0A%20%20%20%20%20%20%20%20%20%20%20%20%20%20%20%20%20%20%20%20center%3A%20%5B32.37496%2C%20-103.29484%5D%2C%0A%20%20%20%20%20%20%20%20%20%20%20%20%20%20%20%20%20%20%20%20crs%3A%20L.CRS.EPSG3857%2C%0A%20%20%20%20%20%20%20%20%20%20%20%20%20%20%20%20%20%20%20%20zoom%3A%202.5%2C%0A%20%20%20%20%20%20%20%20%20%20%20%20%20%20%20%20%20%20%20%20zoomControl%3A%20true%2C%0A%20%20%20%20%20%20%20%20%20%20%20%20%20%20%20%20%20%20%20%20preferCanvas%3A%20false%2C%0A%20%20%20%20%20%20%20%20%20%20%20%20%20%20%20%20%7D%0A%20%20%20%20%20%20%20%20%20%20%20%20%29%3B%0A%0A%20%20%20%20%20%20%20%20%20%20%20%20%0A%0A%20%20%20%20%20%20%20%20%0A%20%20%20%20%0A%20%20%20%20%20%20%20%20%20%20%20%20var%20tile_layer_509820d944ae4e188c73ff2a3cc39996%20%3D%20L.tileLayer%28%0A%20%20%20%20%20%20%20%20%20%20%20%20%20%20%20%20%22https%3A//%7Bs%7D.tile.openstreetmap.org/%7Bz%7D/%7Bx%7D/%7By%7D.png%22%2C%0A%20%20%20%20%20%20%20%20%20%20%20%20%20%20%20%20%7B%22attribution%22%3A%20%22Data%20by%20%5Cu0026copy%3B%20%5Cu003ca%20href%3D%5C%22http%3A//openstreetmap.org%5C%22%5Cu003eOpenStreetMap%5Cu003c/a%5Cu003e%2C%20under%20%5Cu003ca%20href%3D%5C%22http%3A//www.openstreetmap.org/copyright%5C%22%5Cu003eODbL%5Cu003c/a%5Cu003e.%22%2C%20%22detectRetina%22%3A%20false%2C%20%22maxNativeZoom%22%3A%2014%2C%20%22maxZoom%22%3A%2014%2C%20%22minZoom%22%3A%200%2C%20%22noWrap%22%3A%20false%2C%20%22opacity%22%3A%201%2C%20%22subdomains%22%3A%20%22abc%22%2C%20%22tms%22%3A%20false%7D%0A%20%20%20%20%20%20%20%20%20%20%20%20%29.addTo%28map_da89727b252d4d538ad184bdb7ad2e78%29%3B%0A%20%20%20%20%20%20%20%20%0A%20%20%20%20%0A%20%20%20%20%20%20%20%20%20%20%20%20var%20marker_cf5f3a9734e745f09e9ef6d9d02f37d8%20%3D%20L.marker%28%0A%20%20%20%20%20%20%20%20%20%20%20%20%20%20%20%20%5B46.39786%2C%20-94.13723%5D%2C%0A%20%20%20%20%20%20%20%20%20%20%20%20%20%20%20%20%7B%7D%0A%20%20%20%20%20%20%20%20%20%20%20%20%29.addTo%28map_da89727b252d4d538ad184bdb7ad2e78%29%3B%0A%20%20%20%20%20%20%20%20%0A%20%20%20%20%0A%20%20%20%20%20%20%20%20%20%20%20%20var%20div_icon_b21dd7d2f791404780e343bdf8c8a761%20%3D%20L.divIcon%28%7B%22className%22%3A%20%22empty%22%2C%20%22html%22%3A%20%22%5Cu003cdiv%20style%3D%5C%22color%3Agrey%3Bfont-size%3A%208pt%3Bwidth%3A%2035%25%3B%5C%22%5Cu003eBRD%5Cu003c/div%5Cu003e%22%2C%20%22iconAnchor%22%3A%20%5B0%2C%200%5D%2C%20%22iconSize%22%3A%20%5B5%2C%205%5D%7D%29%3B%0A%20%20%20%20%20%20%20%20%20%20%20%20marker_cf5f3a9734e745f09e9ef6d9d02f37d8.setIcon%28div_icon_b21dd7d2f791404780e343bdf8c8a761%29%3B%0A%20%20%20%20%20%20%20%20%0A%20%20%20%20%0A%20%20%20%20%20%20%20%20%20%20%20%20var%20marker_6f5adf9dda3a46dc96e406b983f4baa9%20%3D%20L.marker%28%0A%20%20%20%20%20%20%20%20%20%20%20%20%20%20%20%20%5B38.75496%2C%20-109.75484%5D%2C%0A%20%20%20%20%20%20%20%20%20%20%20%20%20%20%20%20%7B%7D%0A%20%20%20%20%20%20%20%20%20%20%20%20%29.addTo%28map_da89727b252d4d538ad184bdb7ad2e78%29%3B%0A%20%20%20%20%20%20%20%20%0A%20%20%20%20%0A%20%20%20%20%20%20%20%20%20%20%20%20var%20div_icon_1f7b9d4c6f0545809828c3bdd79f78a0%20%3D%20L.divIcon%28%7B%22className%22%3A%20%22empty%22%2C%20%22html%22%3A%20%22%5Cu003cdiv%20style%3D%5C%22color%3Agrey%3Bfont-size%3A%208pt%3Bwidth%3A%2035%25%3B%5C%22%5Cu003eCNY%5Cu003c/div%5Cu003e%22%2C%20%22iconAnchor%22%3A%20%5B0%2C%200%5D%2C%20%22iconSize%22%3A%20%5B5%2C%205%5D%7D%29%3B%0A%20%20%20%20%20%20%20%20%20%20%20%20marker_6f5adf9dda3a46dc96e406b983f4baa9.setIcon%28div_icon_1f7b9d4c6f0545809828c3bdd79f78a0%29%3B%0A%20%20%20%20%20%20%20%20%0A%20%20%20%20%0A%20%20%20%20%20%20%20%20%20%20%20%20var%20marker_541d458e5dea46178ac1dff8092ae66e%20%3D%20L.marker%28%0A%20%20%20%20%20%20%20%20%20%20%20%20%20%20%20%20%5B40.82493%2C%20-115.7917%5D%2C%0A%20%20%20%20%20%20%20%20%20%20%20%20%20%20%20%20%7B%7D%0A%20%20%20%20%20%20%20%20%20%20%20%20%29.addTo%28map_da89727b252d4d538ad184bdb7ad2e78%29%3B%0A%20%20%20%20%20%20%20%20%0A%20%20%20%20%0A%20%20%20%20%20%20%20%20%20%20%20%20var%20div_icon_b33135d3c07f455faa8d3dec6b80a85f%20%3D%20L.divIcon%28%7B%22className%22%3A%20%22empty%22%2C%20%22html%22%3A%20%22%5Cu003cdiv%20style%3D%5C%22color%3Agrey%3Bfont-size%3A%208pt%3Bwidth%3A%2035%25%3B%5C%22%5Cu003eEKO%5Cu003c/div%5Cu003e%22%2C%20%22iconAnchor%22%3A%20%5B0%2C%200%5D%2C%20%22iconSize%22%3A%20%5B5%2C%205%5D%7D%29%3B%0A%20%20%20%20%20%20%20%20%20%20%20%20marker_541d458e5dea46178ac1dff8092ae66e.setIcon%28div_icon_b33135d3c07f455faa8d3dec6b80a85f%29%3B%0A%20%20%20%20%20%20%20%20%0A%20%20%20%20%0A%20%20%20%20%20%20%20%20%20%20%20%20var%20marker_f19bae2d2456453c9ed92b24a669952b%20%3D%20L.marker%28%0A%20%20%20%20%20%20%20%20%20%20%20%20%20%20%20%20%5B46.60682%2C%20-111.98275%5D%2C%0A%20%20%20%20%20%20%20%20%20%20%20%20%20%20%20%20%7B%7D%0A%20%20%20%20%20%20%20%20%20%20%20%20%29.addTo%28map_da89727b252d4d538ad184bdb7ad2e78%29%3B%0A%20%20%20%20%20%20%20%20%0A%20%20%20%20%0A%20%20%20%20%20%20%20%20%20%20%20%20var%20div_icon_1ed79c4bd498480294a9d214d140e43a%20%3D%20L.divIcon%28%7B%22className%22%3A%20%22empty%22%2C%20%22html%22%3A%20%22%5Cu003cdiv%20style%3D%5C%22color%3Agrey%3Bfont-size%3A%208pt%3Bwidth%3A%2035%25%3B%5C%22%5Cu003eHLN%5Cu003c/div%5Cu003e%22%2C%20%22iconAnchor%22%3A%20%5B0%2C%200%5D%2C%20%22iconSize%22%3A%20%5B5%2C%205%5D%7D%29%3B%0A%20%20%20%20%20%20%20%20%20%20%20%20marker_f19bae2d2456453c9ed92b24a669952b.setIcon%28div_icon_1ed79c4bd498480294a9d214d140e43a%29%3B%0A%20%20%20%20%20%20%20%20%0A%20%20%20%20%0A%20%20%20%20%20%20%20%20%20%20%20%20var%20marker_aae58979500a481cb49ff1c4cd570f6a%20%3D%20L.marker%28%0A%20%20%20%20%20%20%20%20%20%20%20%20%20%20%20%20%5B19.72026%2C%20-155.04847%5D%2C%0A%20%20%20%20%20%20%20%20%20%20%20%20%20%20%20%20%7B%7D%0A%20%20%20%20%20%20%20%20%20%20%20%20%29.addTo%28map_da89727b252d4d538ad184bdb7ad2e78%29%3B%0A%20%20%20%20%20%20%20%20%0A%20%20%20%20%0A%20%20%20%20%20%20%20%20%20%20%20%20var%20div_icon_c636fdfa65014d9692fdca8d1d5ae2ae%20%3D%20L.divIcon%28%7B%22className%22%3A%20%22empty%22%2C%20%22html%22%3A%20%22%5Cu003cdiv%20style%3D%5C%22color%3Agrey%3Bfont-size%3A%208pt%3Bwidth%3A%2035%25%3B%5C%22%5Cu003eITO%5Cu003c/div%5Cu003e%22%2C%20%22iconAnchor%22%3A%20%5B0%2C%200%5D%2C%20%22iconSize%22%3A%20%5B5%2C%205%5D%7D%29%3B%0A%20%20%20%20%20%20%20%20%20%20%20%20marker_aae58979500a481cb49ff1c4cd570f6a.setIcon%28div_icon_c636fdfa65014d9692fdca8d1d5ae2ae%29%3B%0A%20%20%20%20%20%20%20%20%0A%20%20%20%20%0A%20%20%20%20%20%20%20%20%20%20%20%20var%20marker_b5b502412c534e05828bd8aa050759ad%20%3D%20L.marker%28%0A%20%20%20%20%20%20%20%20%20%20%20%20%20%20%20%20%5B21.97598%2C%20-159.33896%5D%2C%0A%20%20%20%20%20%20%20%20%20%20%20%20%20%20%20%20%7B%7D%0A%20%20%20%20%20%20%20%20%20%20%20%20%29.addTo%28map_da89727b252d4d538ad184bdb7ad2e78%29%3B%0A%20%20%20%20%20%20%20%20%0A%20%20%20%20%0A%20%20%20%20%20%20%20%20%20%20%20%20var%20div_icon_b959c6d0db8e46df9ca002ed619907bb%20%3D%20L.divIcon%28%7B%22className%22%3A%20%22empty%22%2C%20%22html%22%3A%20%22%5Cu003cdiv%20style%3D%5C%22color%3Agrey%3Bfont-size%3A%208pt%3Bwidth%3A%2035%25%3B%5C%22%5Cu003eLIH%5Cu003c/div%5Cu003e%22%2C%20%22iconAnchor%22%3A%20%5B0%2C%200%5D%2C%20%22iconSize%22%3A%20%5B5%2C%205%5D%7D%29%3B%0A%20%20%20%20%20%20%20%20%20%20%20%20marker_b5b502412c534e05828bd8aa050759ad.setIcon%28div_icon_b959c6d0db8e46df9ca002ed619907bb%29%3B%0A%20%20%20%20%20%20%20%20%0A%20%20%20%20%0A%20%20%20%20%20%20%20%20%20%20%20%20var%20marker_b8cd56a220d349448fd512c8402721b3%20%3D%20L.marker%28%0A%20%20%20%20%20%20%20%20%20%20%20%20%20%20%20%20%5B46.3745%2C%20-117.01539%5D%2C%0A%20%20%20%20%20%20%20%20%20%20%20%20%20%20%20%20%7B%7D%0A%20%20%20%20%20%20%20%20%20%20%20%20%29.addTo%28map_da89727b252d4d538ad184bdb7ad2e78%29%3B%0A%20%20%20%20%20%20%20%20%0A%20%20%20%20%0A%20%20%20%20%20%20%20%20%20%20%20%20var%20div_icon_e2551a984b184dc3b4f1c157702661be%20%3D%20L.divIcon%28%7B%22className%22%3A%20%22empty%22%2C%20%22html%22%3A%20%22%5Cu003cdiv%20style%3D%5C%22color%3Agrey%3Bfont-size%3A%208pt%3Bwidth%3A%2035%25%3B%5C%22%5Cu003eLWS%5Cu003c/div%5Cu003e%22%2C%20%22iconAnchor%22%3A%20%5B0%2C%200%5D%2C%20%22iconSize%22%3A%20%5B5%2C%205%5D%7D%29%3B%0A%20%20%20%20%20%20%20%20%20%20%20%20marker_b8cd56a220d349448fd512c8402721b3.setIcon%28div_icon_e2551a984b184dc3b4f1c157702661be%29%3B%0A%20%20%20%20%20%20%20%20%0A%20%20%20%20%0A%20%20%20%20%20%20%20%20%20%20%20%20var%20marker_0c78853a989e4602a80feece3eed6683%20%3D%20L.marker%28%0A%20%20%20%20%20%20%20%20%20%20%20%20%20%20%20%20%5B42.91131%2C%20-112.59586%5D%2C%0A%20%20%20%20%20%20%20%20%20%20%20%20%20%20%20%20%7B%7D%0A%20%20%20%20%20%20%20%20%20%20%20%20%29.addTo%28map_da89727b252d4d538ad184bdb7ad2e78%29%3B%0A%20%20%20%20%20%20%20%20%0A%20%20%20%20%0A%20%20%20%20%20%20%20%20%20%20%20%20var%20div_icon_51b5717c799640b084297b5b78892838%20%3D%20L.divIcon%28%7B%22className%22%3A%20%22empty%22%2C%20%22html%22%3A%20%22%5Cu003cdiv%20style%3D%5C%22color%3Agrey%3Bfont-size%3A%208pt%3Bwidth%3A%2035%25%3B%5C%22%5Cu003ePIH%5Cu003c/div%5Cu003e%22%2C%20%22iconAnchor%22%3A%20%5B0%2C%200%5D%2C%20%22iconSize%22%3A%20%5B5%2C%205%5D%7D%29%3B%0A%20%20%20%20%20%20%20%20%20%20%20%20marker_0c78853a989e4602a80feece3eed6683.setIcon%28div_icon_51b5717c799640b084297b5b78892838%29%3B%0A%20%20%20%20%20%20%20%20%0A%20%20%20%20%0A%20%20%20%20%20%20%20%20%20%20%20%20var%20marker_8577a27e7ec7409abebe8439ed328d4c%20%3D%20L.marker%28%0A%20%20%20%20%20%20%20%20%20%20%20%20%20%20%20%20%5B42.4818%2C%20-114.48774%5D%2C%0A%20%20%20%20%20%20%20%20%20%20%20%20%20%20%20%20%7B%7D%0A%20%20%20%20%20%20%20%20%20%20%20%20%29.addTo%28map_da89727b252d4d538ad184bdb7ad2e78%29%3B%0A%20%20%20%20%20%20%20%20%0A%20%20%20%20%0A%20%20%20%20%20%20%20%20%20%20%20%20var%20div_icon_3b735f2f2f434c6e8ba4ace2ea42973c%20%3D%20L.divIcon%28%7B%22className%22%3A%20%22empty%22%2C%20%22html%22%3A%20%22%5Cu003cdiv%20style%3D%5C%22color%3Agrey%3Bfont-size%3A%208pt%3Bwidth%3A%2035%25%3B%5C%22%5Cu003eTWF%5Cu003c/div%5Cu003e%22%2C%20%22iconAnchor%22%3A%20%5B0%2C%200%5D%2C%20%22iconSize%22%3A%20%5B5%2C%205%5D%7D%29%3B%0A%20%20%20%20%20%20%20%20%20%20%20%20marker_8577a27e7ec7409abebe8439ed328d4c.setIcon%28div_icon_3b735f2f2f434c6e8ba4ace2ea42973c%29%3B%0A%20%20%20%20%20%20%20%20%0A%20%20%20%20%0A%20%20%20%20%20%20%20%20%20%20%20%20var%20marker_475c720f46dc423eb08602aac301960c%20%3D%20L.marker%28%0A%20%20%20%20%20%20%20%20%20%20%20%20%20%20%20%20%5B44.6884%2C%20-111.11764%5D%2C%0A%20%20%20%20%20%20%20%20%20%20%20%20%20%20%20%20%7B%7D%0A%20%20%20%20%20%20%20%20%20%20%20%20%29.addTo%28map_da89727b252d4d538ad184bdb7ad2e78%29%3B%0A%20%20%20%20%20%20%20%20%0A%20%20%20%20%0A%20%20%20%20%20%20%20%20%20%20%20%20var%20div_icon_d8058d225bfb42068e27935d514534ac%20%3D%20L.divIcon%28%7B%22className%22%3A%20%22empty%22%2C%20%22html%22%3A%20%22%5Cu003cdiv%20style%3D%5C%22color%3Agrey%3Bfont-size%3A%208pt%3Bwidth%3A%2035%25%3B%5C%22%5Cu003eWYS%5Cu003c/div%5Cu003e%22%2C%20%22iconAnchor%22%3A%20%5B0%2C%200%5D%2C%20%22iconSize%22%3A%20%5B5%2C%205%5D%7D%29%3B%0A%20%20%20%20%20%20%20%20%20%20%20%20marker_475c720f46dc423eb08602aac301960c.setIcon%28div_icon_d8058d225bfb42068e27935d514534ac%29%3B%0A%20%20%20%20%20%20%20%20%0A%20%20%20%20%0A%20%20%20%20%20%20%20%20%20%20%20%20var%20marker_c073a24b62904c2e9070e8eced3ba8b8%20%3D%20L.marker%28%0A%20%20%20%20%20%20%20%20%20%20%20%20%20%20%20%20%5B46.39786%2C%20-94.13723%5D%2C%0A%20%20%20%20%20%20%20%20%20%20%20%20%20%20%20%20%7B%7D%0A%20%20%20%20%20%20%20%20%20%20%20%20%29.addTo%28map_da89727b252d4d538ad184bdb7ad2e78%29%3B%0A%20%20%20%20%20%20%20%20%0A%20%20%20%20%0A%20%20%20%20%20%20%20%20%20%20%20%20var%20marker_d325c617ad6b482a913a963752a0570d%20%3D%20L.marker%28%0A%20%20%20%20%20%20%20%20%20%20%20%20%20%20%20%20%5B38.75496%2C%20-109.75484%5D%2C%0A%20%20%20%20%20%20%20%20%20%20%20%20%20%20%20%20%7B%7D%0A%20%20%20%20%20%20%20%20%20%20%20%20%29.addTo%28map_da89727b252d4d538ad184bdb7ad2e78%29%3B%0A%20%20%20%20%20%20%20%20%0A%20%20%20%20%0A%20%20%20%20%20%20%20%20%20%20%20%20var%20marker_26e63539d37e4eb0a6d610601a7009d5%20%3D%20L.marker%28%0A%20%20%20%20%20%20%20%20%20%20%20%20%20%20%20%20%5B40.82493%2C%20-115.7917%5D%2C%0A%20%20%20%20%20%20%20%20%20%20%20%20%20%20%20%20%7B%7D%0A%20%20%20%20%20%20%20%20%20%20%20%20%29.addTo%28map_da89727b252d4d538ad184bdb7ad2e78%29%3B%0A%20%20%20%20%20%20%20%20%0A%20%20%20%20%0A%20%20%20%20%20%20%20%20%20%20%20%20var%20marker_e40598002a6646e4ba0dd453572a95d4%20%3D%20L.marker%28%0A%20%20%20%20%20%20%20%20%20%20%20%20%20%20%20%20%5B46.60682%2C%20-111.98275%5D%2C%0A%20%20%20%20%20%20%20%20%20%20%20%20%20%20%20%20%7B%7D%0A%20%20%20%20%20%20%20%20%20%20%20%20%29.addTo%28map_da89727b252d4d538ad184bdb7ad2e78%29%3B%0A%20%20%20%20%20%20%20%20%0A%20%20%20%20%0A%20%20%20%20%20%20%20%20%20%20%20%20var%20marker_2e5beee2e9c8499fba7c8125ed3f1565%20%3D%20L.marker%28%0A%20%20%20%20%20%20%20%20%20%20%20%20%20%20%20%20%5B19.72026%2C%20-155.04847%5D%2C%0A%20%20%20%20%20%20%20%20%20%20%20%20%20%20%20%20%7B%7D%0A%20%20%20%20%20%20%20%20%20%20%20%20%29.addTo%28map_da89727b252d4d538ad184bdb7ad2e78%29%3B%0A%20%20%20%20%20%20%20%20%0A%20%20%20%20%0A%20%20%20%20%20%20%20%20%20%20%20%20var%20marker_ca4b40f3cf0f479c97ce8eb69eb6c4a4%20%3D%20L.marker%28%0A%20%20%20%20%20%20%20%20%20%20%20%20%20%20%20%20%5B21.97598%2C%20-159.33896%5D%2C%0A%20%20%20%20%20%20%20%20%20%20%20%20%20%20%20%20%7B%7D%0A%20%20%20%20%20%20%20%20%20%20%20%20%29.addTo%28map_da89727b252d4d538ad184bdb7ad2e78%29%3B%0A%20%20%20%20%20%20%20%20%0A%20%20%20%20%0A%20%20%20%20%20%20%20%20%20%20%20%20var%20marker_361656d44f3242eba171c6ee831c63a4%20%3D%20L.marker%28%0A%20%20%20%20%20%20%20%20%20%20%20%20%20%20%20%20%5B46.3745%2C%20-117.01539%5D%2C%0A%20%20%20%20%20%20%20%20%20%20%20%20%20%20%20%20%7B%7D%0A%20%20%20%20%20%20%20%20%20%20%20%20%29.addTo%28map_da89727b252d4d538ad184bdb7ad2e78%29%3B%0A%20%20%20%20%20%20%20%20%0A%20%20%20%20%0A%20%20%20%20%20%20%20%20%20%20%20%20var%20marker_2c8fe460dead42c1b53cd50e35d9b2b0%20%3D%20L.marker%28%0A%20%20%20%20%20%20%20%20%20%20%20%20%20%20%20%20%5B42.91131%2C%20-112.59586%5D%2C%0A%20%20%20%20%20%20%20%20%20%20%20%20%20%20%20%20%7B%7D%0A%20%20%20%20%20%20%20%20%20%20%20%20%29.addTo%28map_da89727b252d4d538ad184bdb7ad2e78%29%3B%0A%20%20%20%20%20%20%20%20%0A%20%20%20%20%0A%20%20%20%20%20%20%20%20%20%20%20%20var%20marker_39265f4d7f494644b4c41019021fa335%20%3D%20L.marker%28%0A%20%20%20%20%20%20%20%20%20%20%20%20%20%20%20%20%5B42.4818%2C%20-114.48774%5D%2C%0A%20%20%20%20%20%20%20%20%20%20%20%20%20%20%20%20%7B%7D%0A%20%20%20%20%20%20%20%20%20%20%20%20%29.addTo%28map_da89727b252d4d538ad184bdb7ad2e78%29%3B%0A%20%20%20%20%20%20%20%20%0A%20%20%20%20%0A%20%20%20%20%20%20%20%20%20%20%20%20var%20marker_dbafec09bed24bdf8d3c1acadc48b3f6%20%3D%20L.marker%28%0A%20%20%20%20%20%20%20%20%20%20%20%20%20%20%20%20%5B44.6884%2C%20-111.11764%5D%2C%0A%20%20%20%20%20%20%20%20%20%20%20%20%20%20%20%20%7B%7D%0A%20%20%20%20%20%20%20%20%20%20%20%20%29.addTo%28map_da89727b252d4d538ad184bdb7ad2e78%29%3B%0A%20%20%20%20%20%20%20%20%0A%3C/script%3E onload=\"this.contentDocument.open();this.contentDocument.write(    decodeURIComponent(this.getAttribute('data-html')));this.contentDocument.close();\" allowfullscreen webkitallowfullscreen mozallowfullscreen></iframe></div></div>"
      ],
      "text/plain": [
       "<folium.folium.Map at 0x1a4d91b4310>"
      ]
     },
     "execution_count": 23,
     "metadata": {},
     "output_type": "execute_result"
    }
   ],
   "source": [
    "import folium\n",
    "from folium.features import DivIcon\n",
    "\n",
    "# Отметим найденные аэропорты на карте\n",
    "# Создадим список кортежей широты и долготы и список для хранения кода IATA\n",
    "lat_lon_pairs = []\n",
    "airport_code = []\n",
    "for i in range(airport_data.shape[0]):\n",
    "    \n",
    "    # Добавляем в список пары широт и долгот\n",
    "    lat_i = airport_data['LATITUDE'].iloc[i]\n",
    "    lon_i = airport_data['LONGITUDE'].iloc[i]\n",
    "    lat_lon_pair = (lat_i, lon_i)\n",
    "    lat_lon_pairs.append(lat_lon_pair)\n",
    "    \n",
    "    # Добавляем в список IATA коды аэропортов\n",
    "    iata_i = airport_data['IATA_CODE'].iloc[i]\n",
    "    airport_code.append(iata_i)\n",
    "    \n",
    "usa_lat = 32.37496\n",
    "usa_lon = -103.29484\n",
    "\n",
    "usa_map = folium.Map(location=(usa_lat, usa_lon), width=800, height=500, zoom_start=2.5, max_zoom=14)\n",
    "\n",
    "# Отмечаем на карте IATA коды аэропортов\n",
    "html = '<div style=\"color:grey;font-size: 8pt;width: 35%;\">airport_code</div>'\n",
    "for loc, air_code in zip(lat_lon_pairs, airport_code):\n",
    "    folium.Marker(loc, icon=DivIcon(\n",
    "                       icon_size=(5,5),\n",
    "                       icon_anchor=(0,0),\n",
    "                       html=html.replace('airport_code', air_code),\n",
    "                        )).add_to(usa_map)\n",
    "    \n",
    "# Отмечаем широту и долготу\n",
    "for loc, air_code in zip(lat_lon_pairs, airport_code):\n",
    "    folium.Marker(loc).add_to(usa_map)\n",
    "    \n",
    "usa_map"
   ]
  },
  {
   "cell_type": "markdown",
   "id": "6738e8d6",
   "metadata": {},
   "source": [
    "### Задание №2. Определить самую пунктуальную авиакомпанию на прилет в Los Angeles International Airport"
   ]
  },
  {
   "cell_type": "code",
   "execution_count": 24,
   "id": "7bf31b59",
   "metadata": {},
   "outputs": [],
   "source": [
    "# объединяем перелеты с аэропортами прибытия\n",
    "df_flights = df_flights.merge(df_airports, left_on='DESTINATION_AIRPORT', right_on='IATA_CODE', how='inner')"
   ]
  },
  {
   "cell_type": "code",
   "execution_count": 25,
   "id": "7e0c5360",
   "metadata": {},
   "outputs": [],
   "source": [
    "# Авиакомпании\n",
    "df_airlines = pd.read_csv('airlines.csv')"
   ]
  },
  {
   "cell_type": "code",
   "execution_count": 26,
   "id": "67d611dd",
   "metadata": {},
   "outputs": [],
   "source": [
    "# объединяем перелеты с авиакомпаниями\n",
    "df_flights = df_flights.merge(df_airlines, left_on='AIRLINE', right_on='IATA_CODE', how='inner')"
   ]
  },
  {
   "cell_type": "code",
   "execution_count": 27,
   "id": "14bbef73",
   "metadata": {},
   "outputs": [],
   "source": [
    "df_flights.rename(columns={'AIRPORT': 'DEST_AIRPORT_NAME', \n",
    "                           'CITY': 'DEST_AIRPORT_CITY', \n",
    "                           'STATE': 'DEST_AIRPORT_STATE', \n",
    "                           'LATITUDE': 'DEST_AIRPORT_LAT', \n",
    "                           'LONGITUDE': 'DEST_AIRPORT_LONG', \n",
    "                           'AIRLINE_y': 'AIRLINE', \n",
    "                           'AIRLINE_x': 'AIRLINE_IATA'}, inplace=True)\n",
    "\n",
    "df_flights = df_flights.drop(['IATA_CODE_x','IATA_CODE_y','COUNTRY'], axis=1)"
   ]
  },
  {
   "cell_type": "code",
   "execution_count": 61,
   "id": "d201f18a",
   "metadata": {},
   "outputs": [
    {
     "data": {
      "text/html": [
       "<div>\n",
       "<style scoped>\n",
       "    .dataframe tbody tr th:only-of-type {\n",
       "        vertical-align: middle;\n",
       "    }\n",
       "\n",
       "    .dataframe tbody tr th {\n",
       "        vertical-align: top;\n",
       "    }\n",
       "\n",
       "    .dataframe thead th {\n",
       "        text-align: right;\n",
       "    }\n",
       "</style>\n",
       "<table border=\"1\" class=\"dataframe\">\n",
       "  <thead>\n",
       "    <tr style=\"text-align: right;\">\n",
       "      <th></th>\n",
       "      <th>YEAR</th>\n",
       "      <th>MONTH</th>\n",
       "      <th>DAY</th>\n",
       "      <th>DAY_OF_WEEK</th>\n",
       "      <th>AIRLINE_IATA</th>\n",
       "      <th>FLIGHT_NUMBER</th>\n",
       "      <th>TAIL_NUMBER</th>\n",
       "      <th>ORIGIN_AIRPORT</th>\n",
       "      <th>DESTINATION_AIRPORT</th>\n",
       "      <th>SCHEDULED_DEPARTURE</th>\n",
       "      <th>...</th>\n",
       "      <th>ORIG_AIRPORT_STATE</th>\n",
       "      <th>ORIG_AIRPORT_LAT</th>\n",
       "      <th>ORIG_AIRPORT_LONG</th>\n",
       "      <th>DEST_AIRPORT_NAME</th>\n",
       "      <th>DEST_AIRPORT_CITY</th>\n",
       "      <th>DEST_AIRPORT_STATE</th>\n",
       "      <th>DEST_AIRPORT_LAT</th>\n",
       "      <th>DEST_AIRPORT_LONG</th>\n",
       "      <th>AIRLINE</th>\n",
       "      <th>dDate</th>\n",
       "    </tr>\n",
       "  </thead>\n",
       "  <tbody>\n",
       "    <tr>\n",
       "      <th>0</th>\n",
       "      <td>2015</td>\n",
       "      <td>1</td>\n",
       "      <td>1</td>\n",
       "      <td>4</td>\n",
       "      <td>AS</td>\n",
       "      <td>98</td>\n",
       "      <td>N407AS</td>\n",
       "      <td>ANC</td>\n",
       "      <td>SEA</td>\n",
       "      <td>5</td>\n",
       "      <td>...</td>\n",
       "      <td>AK</td>\n",
       "      <td>61.17432</td>\n",
       "      <td>-149.99619</td>\n",
       "      <td>Seattle-Tacoma International Airport</td>\n",
       "      <td>Seattle</td>\n",
       "      <td>WA</td>\n",
       "      <td>47.44898</td>\n",
       "      <td>-122.30931</td>\n",
       "      <td>Alaska Airlines Inc.</td>\n",
       "      <td>2015-01-01</td>\n",
       "    </tr>\n",
       "    <tr>\n",
       "      <th>1</th>\n",
       "      <td>2015</td>\n",
       "      <td>1</td>\n",
       "      <td>1</td>\n",
       "      <td>4</td>\n",
       "      <td>AS</td>\n",
       "      <td>108</td>\n",
       "      <td>N309AS</td>\n",
       "      <td>ANC</td>\n",
       "      <td>SEA</td>\n",
       "      <td>45</td>\n",
       "      <td>...</td>\n",
       "      <td>AK</td>\n",
       "      <td>61.17432</td>\n",
       "      <td>-149.99619</td>\n",
       "      <td>Seattle-Tacoma International Airport</td>\n",
       "      <td>Seattle</td>\n",
       "      <td>WA</td>\n",
       "      <td>47.44898</td>\n",
       "      <td>-122.30931</td>\n",
       "      <td>Alaska Airlines Inc.</td>\n",
       "      <td>2015-01-01</td>\n",
       "    </tr>\n",
       "    <tr>\n",
       "      <th>2</th>\n",
       "      <td>2015</td>\n",
       "      <td>1</td>\n",
       "      <td>1</td>\n",
       "      <td>4</td>\n",
       "      <td>AS</td>\n",
       "      <td>134</td>\n",
       "      <td>N464AS</td>\n",
       "      <td>ANC</td>\n",
       "      <td>SEA</td>\n",
       "      <td>155</td>\n",
       "      <td>...</td>\n",
       "      <td>AK</td>\n",
       "      <td>61.17432</td>\n",
       "      <td>-149.99619</td>\n",
       "      <td>Seattle-Tacoma International Airport</td>\n",
       "      <td>Seattle</td>\n",
       "      <td>WA</td>\n",
       "      <td>47.44898</td>\n",
       "      <td>-122.30931</td>\n",
       "      <td>Alaska Airlines Inc.</td>\n",
       "      <td>2015-01-01</td>\n",
       "    </tr>\n",
       "    <tr>\n",
       "      <th>3</th>\n",
       "      <td>2015</td>\n",
       "      <td>1</td>\n",
       "      <td>1</td>\n",
       "      <td>4</td>\n",
       "      <td>AS</td>\n",
       "      <td>114</td>\n",
       "      <td>N303AS</td>\n",
       "      <td>ANC</td>\n",
       "      <td>SEA</td>\n",
       "      <td>220</td>\n",
       "      <td>...</td>\n",
       "      <td>AK</td>\n",
       "      <td>61.17432</td>\n",
       "      <td>-149.99619</td>\n",
       "      <td>Seattle-Tacoma International Airport</td>\n",
       "      <td>Seattle</td>\n",
       "      <td>WA</td>\n",
       "      <td>47.44898</td>\n",
       "      <td>-122.30931</td>\n",
       "      <td>Alaska Airlines Inc.</td>\n",
       "      <td>2015-01-01</td>\n",
       "    </tr>\n",
       "    <tr>\n",
       "      <th>4</th>\n",
       "      <td>2015</td>\n",
       "      <td>1</td>\n",
       "      <td>1</td>\n",
       "      <td>4</td>\n",
       "      <td>AS</td>\n",
       "      <td>730</td>\n",
       "      <td>N423AS</td>\n",
       "      <td>ANC</td>\n",
       "      <td>SEA</td>\n",
       "      <td>505</td>\n",
       "      <td>...</td>\n",
       "      <td>AK</td>\n",
       "      <td>61.17432</td>\n",
       "      <td>-149.99619</td>\n",
       "      <td>Seattle-Tacoma International Airport</td>\n",
       "      <td>Seattle</td>\n",
       "      <td>WA</td>\n",
       "      <td>47.44898</td>\n",
       "      <td>-122.30931</td>\n",
       "      <td>Alaska Airlines Inc.</td>\n",
       "      <td>2015-01-01</td>\n",
       "    </tr>\n",
       "  </tbody>\n",
       "</table>\n",
       "<p>5 rows × 43 columns</p>\n",
       "</div>"
      ],
      "text/plain": [
       "   YEAR  MONTH  DAY  DAY_OF_WEEK AIRLINE_IATA  FLIGHT_NUMBER TAIL_NUMBER  \\\n",
       "0  2015      1    1            4           AS             98      N407AS   \n",
       "1  2015      1    1            4           AS            108      N309AS   \n",
       "2  2015      1    1            4           AS            134      N464AS   \n",
       "3  2015      1    1            4           AS            114      N303AS   \n",
       "4  2015      1    1            4           AS            730      N423AS   \n",
       "\n",
       "  ORIGIN_AIRPORT DESTINATION_AIRPORT  SCHEDULED_DEPARTURE  ...  \\\n",
       "0            ANC                 SEA                    5  ...   \n",
       "1            ANC                 SEA                   45  ...   \n",
       "2            ANC                 SEA                  155  ...   \n",
       "3            ANC                 SEA                  220  ...   \n",
       "4            ANC                 SEA                  505  ...   \n",
       "\n",
       "   ORIG_AIRPORT_STATE  ORIG_AIRPORT_LAT  ORIG_AIRPORT_LONG  \\\n",
       "0                  AK          61.17432         -149.99619   \n",
       "1                  AK          61.17432         -149.99619   \n",
       "2                  AK          61.17432         -149.99619   \n",
       "3                  AK          61.17432         -149.99619   \n",
       "4                  AK          61.17432         -149.99619   \n",
       "\n",
       "                      DEST_AIRPORT_NAME  DEST_AIRPORT_CITY  \\\n",
       "0  Seattle-Tacoma International Airport            Seattle   \n",
       "1  Seattle-Tacoma International Airport            Seattle   \n",
       "2  Seattle-Tacoma International Airport            Seattle   \n",
       "3  Seattle-Tacoma International Airport            Seattle   \n",
       "4  Seattle-Tacoma International Airport            Seattle   \n",
       "\n",
       "   DEST_AIRPORT_STATE  DEST_AIRPORT_LAT  DEST_AIRPORT_LONG  \\\n",
       "0                  WA          47.44898         -122.30931   \n",
       "1                  WA          47.44898         -122.30931   \n",
       "2                  WA          47.44898         -122.30931   \n",
       "3                  WA          47.44898         -122.30931   \n",
       "4                  WA          47.44898         -122.30931   \n",
       "\n",
       "                AIRLINE       dDate  \n",
       "0  Alaska Airlines Inc.  2015-01-01  \n",
       "1  Alaska Airlines Inc.  2015-01-01  \n",
       "2  Alaska Airlines Inc.  2015-01-01  \n",
       "3  Alaska Airlines Inc.  2015-01-01  \n",
       "4  Alaska Airlines Inc.  2015-01-01  \n",
       "\n",
       "[5 rows x 43 columns]"
      ]
     },
     "execution_count": 61,
     "metadata": {},
     "output_type": "execute_result"
    }
   ],
   "source": [
    "df_flights.head()"
   ]
  },
  {
   "cell_type": "code",
   "execution_count": 29,
   "id": "6c66a211",
   "metadata": {},
   "outputs": [],
   "source": [
    "flights_ToLA = df_flights[df_flights.DEST_AIRPORT_NAME == 'Los Angeles International Airport']"
   ]
  },
  {
   "cell_type": "code",
   "execution_count": 30,
   "id": "b542ca39",
   "metadata": {},
   "outputs": [
    {
     "name": "stderr",
     "output_type": "stream",
     "text": [
      "C:\\ProgramData\\Anaconda3\\lib\\site-packages\\pandas\\core\\indexing.py:1597: SettingWithCopyWarning: \n",
      "A value is trying to be set on a copy of a slice from a DataFrame.\n",
      "Try using .loc[row_indexer,col_indexer] = value instead\n",
      "\n",
      "See the caveats in the documentation: https://pandas.pydata.org/pandas-docs/stable/user_guide/indexing.html#returning-a-view-versus-a-copy\n",
      "  self.obj[key] = value\n",
      "C:\\ProgramData\\Anaconda3\\lib\\site-packages\\pandas\\core\\indexing.py:1676: SettingWithCopyWarning: \n",
      "A value is trying to be set on a copy of a slice from a DataFrame.\n",
      "Try using .loc[row_indexer,col_indexer] = value instead\n",
      "\n",
      "See the caveats in the documentation: https://pandas.pydata.org/pandas-docs/stable/user_guide/indexing.html#returning-a-view-versus-a-copy\n",
      "  self._setitem_single_column(ilocs[0], value, pi)\n"
     ]
    }
   ],
   "source": [
    "# Вычисляем абсолютное время отклонения прилета от расписания в столбец how_deviation\n",
    "flights_ToLA.loc[:, 'how_deviation'] = flights_ToLA.loc[:, 'ARRIVAL_DELAY'].abs()"
   ]
  },
  {
   "cell_type": "code",
   "execution_count": 31,
   "id": "5d57ba55",
   "metadata": {},
   "outputs": [
    {
     "data": {
      "text/html": [
       "<div>\n",
       "<style scoped>\n",
       "    .dataframe tbody tr th:only-of-type {\n",
       "        vertical-align: middle;\n",
       "    }\n",
       "\n",
       "    .dataframe tbody tr th {\n",
       "        vertical-align: top;\n",
       "    }\n",
       "\n",
       "    .dataframe thead th {\n",
       "        text-align: right;\n",
       "    }\n",
       "</style>\n",
       "<table border=\"1\" class=\"dataframe\">\n",
       "  <thead>\n",
       "    <tr style=\"text-align: right;\">\n",
       "      <th></th>\n",
       "      <th>YEAR</th>\n",
       "      <th>MONTH</th>\n",
       "      <th>DAY</th>\n",
       "      <th>DAY_OF_WEEK</th>\n",
       "      <th>AIRLINE_IATA</th>\n",
       "      <th>FLIGHT_NUMBER</th>\n",
       "      <th>TAIL_NUMBER</th>\n",
       "      <th>ORIGIN_AIRPORT</th>\n",
       "      <th>DESTINATION_AIRPORT</th>\n",
       "      <th>SCHEDULED_DEPARTURE</th>\n",
       "      <th>...</th>\n",
       "      <th>ORIG_AIRPORT_STATE</th>\n",
       "      <th>ORIG_AIRPORT_LAT</th>\n",
       "      <th>ORIG_AIRPORT_LONG</th>\n",
       "      <th>DEST_AIRPORT_NAME</th>\n",
       "      <th>DEST_AIRPORT_CITY</th>\n",
       "      <th>DEST_AIRPORT_STATE</th>\n",
       "      <th>DEST_AIRPORT_LAT</th>\n",
       "      <th>DEST_AIRPORT_LONG</th>\n",
       "      <th>AIRLINE</th>\n",
       "      <th>how_deviation</th>\n",
       "    </tr>\n",
       "  </thead>\n",
       "  <tbody>\n",
       "    <tr>\n",
       "      <th>98415</th>\n",
       "      <td>2015</td>\n",
       "      <td>1</td>\n",
       "      <td>1</td>\n",
       "      <td>4</td>\n",
       "      <td>AS</td>\n",
       "      <td>150</td>\n",
       "      <td>N528AS</td>\n",
       "      <td>ANC</td>\n",
       "      <td>LAX</td>\n",
       "      <td>2340</td>\n",
       "      <td>...</td>\n",
       "      <td>AK</td>\n",
       "      <td>61.17432</td>\n",
       "      <td>-149.99619</td>\n",
       "      <td>Los Angeles International Airport</td>\n",
       "      <td>Los Angeles</td>\n",
       "      <td>CA</td>\n",
       "      <td>33.94254</td>\n",
       "      <td>-118.40807</td>\n",
       "      <td>Alaska Airlines Inc.</td>\n",
       "      <td>33.0</td>\n",
       "    </tr>\n",
       "    <tr>\n",
       "      <th>98416</th>\n",
       "      <td>2015</td>\n",
       "      <td>1</td>\n",
       "      <td>2</td>\n",
       "      <td>5</td>\n",
       "      <td>AS</td>\n",
       "      <td>150</td>\n",
       "      <td>N442AS</td>\n",
       "      <td>ANC</td>\n",
       "      <td>LAX</td>\n",
       "      <td>2340</td>\n",
       "      <td>...</td>\n",
       "      <td>AK</td>\n",
       "      <td>61.17432</td>\n",
       "      <td>-149.99619</td>\n",
       "      <td>Los Angeles International Airport</td>\n",
       "      <td>Los Angeles</td>\n",
       "      <td>CA</td>\n",
       "      <td>33.94254</td>\n",
       "      <td>-118.40807</td>\n",
       "      <td>Alaska Airlines Inc.</td>\n",
       "      <td>42.0</td>\n",
       "    </tr>\n",
       "    <tr>\n",
       "      <th>98417</th>\n",
       "      <td>2015</td>\n",
       "      <td>1</td>\n",
       "      <td>3</td>\n",
       "      <td>6</td>\n",
       "      <td>AS</td>\n",
       "      <td>150</td>\n",
       "      <td>N596AS</td>\n",
       "      <td>ANC</td>\n",
       "      <td>LAX</td>\n",
       "      <td>2340</td>\n",
       "      <td>...</td>\n",
       "      <td>AK</td>\n",
       "      <td>61.17432</td>\n",
       "      <td>-149.99619</td>\n",
       "      <td>Los Angeles International Airport</td>\n",
       "      <td>Los Angeles</td>\n",
       "      <td>CA</td>\n",
       "      <td>33.94254</td>\n",
       "      <td>-118.40807</td>\n",
       "      <td>Alaska Airlines Inc.</td>\n",
       "      <td>29.0</td>\n",
       "    </tr>\n",
       "    <tr>\n",
       "      <th>98418</th>\n",
       "      <td>2015</td>\n",
       "      <td>1</td>\n",
       "      <td>4</td>\n",
       "      <td>7</td>\n",
       "      <td>AS</td>\n",
       "      <td>150</td>\n",
       "      <td>N553AS</td>\n",
       "      <td>ANC</td>\n",
       "      <td>LAX</td>\n",
       "      <td>2340</td>\n",
       "      <td>...</td>\n",
       "      <td>AK</td>\n",
       "      <td>61.17432</td>\n",
       "      <td>-149.99619</td>\n",
       "      <td>Los Angeles International Airport</td>\n",
       "      <td>Los Angeles</td>\n",
       "      <td>CA</td>\n",
       "      <td>33.94254</td>\n",
       "      <td>-118.40807</td>\n",
       "      <td>Alaska Airlines Inc.</td>\n",
       "      <td>111.0</td>\n",
       "    </tr>\n",
       "    <tr>\n",
       "      <th>98419</th>\n",
       "      <td>2015</td>\n",
       "      <td>1</td>\n",
       "      <td>8</td>\n",
       "      <td>4</td>\n",
       "      <td>AS</td>\n",
       "      <td>150</td>\n",
       "      <td>N557AS</td>\n",
       "      <td>ANC</td>\n",
       "      <td>LAX</td>\n",
       "      <td>2340</td>\n",
       "      <td>...</td>\n",
       "      <td>AK</td>\n",
       "      <td>61.17432</td>\n",
       "      <td>-149.99619</td>\n",
       "      <td>Los Angeles International Airport</td>\n",
       "      <td>Los Angeles</td>\n",
       "      <td>CA</td>\n",
       "      <td>33.94254</td>\n",
       "      <td>-118.40807</td>\n",
       "      <td>Alaska Airlines Inc.</td>\n",
       "      <td>25.0</td>\n",
       "    </tr>\n",
       "    <tr>\n",
       "      <th>...</th>\n",
       "      <td>...</td>\n",
       "      <td>...</td>\n",
       "      <td>...</td>\n",
       "      <td>...</td>\n",
       "      <td>...</td>\n",
       "      <td>...</td>\n",
       "      <td>...</td>\n",
       "      <td>...</td>\n",
       "      <td>...</td>\n",
       "      <td>...</td>\n",
       "      <td>...</td>\n",
       "      <td>...</td>\n",
       "      <td>...</td>\n",
       "      <td>...</td>\n",
       "      <td>...</td>\n",
       "      <td>...</td>\n",
       "      <td>...</td>\n",
       "      <td>...</td>\n",
       "      <td>...</td>\n",
       "      <td>...</td>\n",
       "      <td>...</td>\n",
       "    </tr>\n",
       "    <tr>\n",
       "      <th>5500651</th>\n",
       "      <td>2015</td>\n",
       "      <td>12</td>\n",
       "      <td>26</td>\n",
       "      <td>6</td>\n",
       "      <td>MQ</td>\n",
       "      <td>3248</td>\n",
       "      <td>N522MQ</td>\n",
       "      <td>ASE</td>\n",
       "      <td>LAX</td>\n",
       "      <td>1845</td>\n",
       "      <td>...</td>\n",
       "      <td>CO</td>\n",
       "      <td>39.22316</td>\n",
       "      <td>-106.86885</td>\n",
       "      <td>Los Angeles International Airport</td>\n",
       "      <td>Los Angeles</td>\n",
       "      <td>CA</td>\n",
       "      <td>33.94254</td>\n",
       "      <td>-118.40807</td>\n",
       "      <td>American Eagle Airlines Inc.</td>\n",
       "      <td>44.0</td>\n",
       "    </tr>\n",
       "    <tr>\n",
       "      <th>5500652</th>\n",
       "      <td>2015</td>\n",
       "      <td>12</td>\n",
       "      <td>28</td>\n",
       "      <td>1</td>\n",
       "      <td>MQ</td>\n",
       "      <td>3248</td>\n",
       "      <td>N520MQ</td>\n",
       "      <td>ASE</td>\n",
       "      <td>LAX</td>\n",
       "      <td>1845</td>\n",
       "      <td>...</td>\n",
       "      <td>CO</td>\n",
       "      <td>39.22316</td>\n",
       "      <td>-106.86885</td>\n",
       "      <td>Los Angeles International Airport</td>\n",
       "      <td>Los Angeles</td>\n",
       "      <td>CA</td>\n",
       "      <td>33.94254</td>\n",
       "      <td>-118.40807</td>\n",
       "      <td>American Eagle Airlines Inc.</td>\n",
       "      <td>146.0</td>\n",
       "    </tr>\n",
       "    <tr>\n",
       "      <th>5500653</th>\n",
       "      <td>2015</td>\n",
       "      <td>12</td>\n",
       "      <td>29</td>\n",
       "      <td>2</td>\n",
       "      <td>MQ</td>\n",
       "      <td>3248</td>\n",
       "      <td>N520MQ</td>\n",
       "      <td>ASE</td>\n",
       "      <td>LAX</td>\n",
       "      <td>1845</td>\n",
       "      <td>...</td>\n",
       "      <td>CO</td>\n",
       "      <td>39.22316</td>\n",
       "      <td>-106.86885</td>\n",
       "      <td>Los Angeles International Airport</td>\n",
       "      <td>Los Angeles</td>\n",
       "      <td>CA</td>\n",
       "      <td>33.94254</td>\n",
       "      <td>-118.40807</td>\n",
       "      <td>American Eagle Airlines Inc.</td>\n",
       "      <td>83.0</td>\n",
       "    </tr>\n",
       "    <tr>\n",
       "      <th>5500654</th>\n",
       "      <td>2015</td>\n",
       "      <td>12</td>\n",
       "      <td>30</td>\n",
       "      <td>3</td>\n",
       "      <td>MQ</td>\n",
       "      <td>3248</td>\n",
       "      <td>N515MQ</td>\n",
       "      <td>ASE</td>\n",
       "      <td>LAX</td>\n",
       "      <td>1845</td>\n",
       "      <td>...</td>\n",
       "      <td>CO</td>\n",
       "      <td>39.22316</td>\n",
       "      <td>-106.86885</td>\n",
       "      <td>Los Angeles International Airport</td>\n",
       "      <td>Los Angeles</td>\n",
       "      <td>CA</td>\n",
       "      <td>33.94254</td>\n",
       "      <td>-118.40807</td>\n",
       "      <td>American Eagle Airlines Inc.</td>\n",
       "      <td>1076.0</td>\n",
       "    </tr>\n",
       "    <tr>\n",
       "      <th>5500655</th>\n",
       "      <td>2015</td>\n",
       "      <td>12</td>\n",
       "      <td>31</td>\n",
       "      <td>4</td>\n",
       "      <td>MQ</td>\n",
       "      <td>3248</td>\n",
       "      <td>N8EGMQ</td>\n",
       "      <td>ASE</td>\n",
       "      <td>LAX</td>\n",
       "      <td>1845</td>\n",
       "      <td>...</td>\n",
       "      <td>CO</td>\n",
       "      <td>39.22316</td>\n",
       "      <td>-106.86885</td>\n",
       "      <td>Los Angeles International Airport</td>\n",
       "      <td>Los Angeles</td>\n",
       "      <td>CA</td>\n",
       "      <td>33.94254</td>\n",
       "      <td>-118.40807</td>\n",
       "      <td>American Eagle Airlines Inc.</td>\n",
       "      <td>5.0</td>\n",
       "    </tr>\n",
       "  </tbody>\n",
       "</table>\n",
       "<p>209783 rows × 43 columns</p>\n",
       "</div>"
      ],
      "text/plain": [
       "         YEAR  MONTH  DAY  DAY_OF_WEEK AIRLINE_IATA  FLIGHT_NUMBER  \\\n",
       "98415    2015      1    1            4           AS            150   \n",
       "98416    2015      1    2            5           AS            150   \n",
       "98417    2015      1    3            6           AS            150   \n",
       "98418    2015      1    4            7           AS            150   \n",
       "98419    2015      1    8            4           AS            150   \n",
       "...       ...    ...  ...          ...          ...            ...   \n",
       "5500651  2015     12   26            6           MQ           3248   \n",
       "5500652  2015     12   28            1           MQ           3248   \n",
       "5500653  2015     12   29            2           MQ           3248   \n",
       "5500654  2015     12   30            3           MQ           3248   \n",
       "5500655  2015     12   31            4           MQ           3248   \n",
       "\n",
       "        TAIL_NUMBER ORIGIN_AIRPORT DESTINATION_AIRPORT  SCHEDULED_DEPARTURE  \\\n",
       "98415        N528AS            ANC                 LAX                 2340   \n",
       "98416        N442AS            ANC                 LAX                 2340   \n",
       "98417        N596AS            ANC                 LAX                 2340   \n",
       "98418        N553AS            ANC                 LAX                 2340   \n",
       "98419        N557AS            ANC                 LAX                 2340   \n",
       "...             ...            ...                 ...                  ...   \n",
       "5500651      N522MQ            ASE                 LAX                 1845   \n",
       "5500652      N520MQ            ASE                 LAX                 1845   \n",
       "5500653      N520MQ            ASE                 LAX                 1845   \n",
       "5500654      N515MQ            ASE                 LAX                 1845   \n",
       "5500655      N8EGMQ            ASE                 LAX                 1845   \n",
       "\n",
       "         ...  ORIG_AIRPORT_STATE  ORIG_AIRPORT_LAT  ORIG_AIRPORT_LONG  \\\n",
       "98415    ...                  AK          61.17432         -149.99619   \n",
       "98416    ...                  AK          61.17432         -149.99619   \n",
       "98417    ...                  AK          61.17432         -149.99619   \n",
       "98418    ...                  AK          61.17432         -149.99619   \n",
       "98419    ...                  AK          61.17432         -149.99619   \n",
       "...      ...                 ...               ...                ...   \n",
       "5500651  ...                  CO          39.22316         -106.86885   \n",
       "5500652  ...                  CO          39.22316         -106.86885   \n",
       "5500653  ...                  CO          39.22316         -106.86885   \n",
       "5500654  ...                  CO          39.22316         -106.86885   \n",
       "5500655  ...                  CO          39.22316         -106.86885   \n",
       "\n",
       "                         DEST_AIRPORT_NAME  DEST_AIRPORT_CITY  \\\n",
       "98415    Los Angeles International Airport        Los Angeles   \n",
       "98416    Los Angeles International Airport        Los Angeles   \n",
       "98417    Los Angeles International Airport        Los Angeles   \n",
       "98418    Los Angeles International Airport        Los Angeles   \n",
       "98419    Los Angeles International Airport        Los Angeles   \n",
       "...                                    ...                ...   \n",
       "5500651  Los Angeles International Airport        Los Angeles   \n",
       "5500652  Los Angeles International Airport        Los Angeles   \n",
       "5500653  Los Angeles International Airport        Los Angeles   \n",
       "5500654  Los Angeles International Airport        Los Angeles   \n",
       "5500655  Los Angeles International Airport        Los Angeles   \n",
       "\n",
       "         DEST_AIRPORT_STATE  DEST_AIRPORT_LAT  DEST_AIRPORT_LONG  \\\n",
       "98415                    CA          33.94254         -118.40807   \n",
       "98416                    CA          33.94254         -118.40807   \n",
       "98417                    CA          33.94254         -118.40807   \n",
       "98418                    CA          33.94254         -118.40807   \n",
       "98419                    CA          33.94254         -118.40807   \n",
       "...                     ...               ...                ...   \n",
       "5500651                  CA          33.94254         -118.40807   \n",
       "5500652                  CA          33.94254         -118.40807   \n",
       "5500653                  CA          33.94254         -118.40807   \n",
       "5500654                  CA          33.94254         -118.40807   \n",
       "5500655                  CA          33.94254         -118.40807   \n",
       "\n",
       "                              AIRLINE  how_deviation  \n",
       "98415            Alaska Airlines Inc.           33.0  \n",
       "98416            Alaska Airlines Inc.           42.0  \n",
       "98417            Alaska Airlines Inc.           29.0  \n",
       "98418            Alaska Airlines Inc.          111.0  \n",
       "98419            Alaska Airlines Inc.           25.0  \n",
       "...                               ...            ...  \n",
       "5500651  American Eagle Airlines Inc.           44.0  \n",
       "5500652  American Eagle Airlines Inc.          146.0  \n",
       "5500653  American Eagle Airlines Inc.           83.0  \n",
       "5500654  American Eagle Airlines Inc.         1076.0  \n",
       "5500655  American Eagle Airlines Inc.            5.0  \n",
       "\n",
       "[209783 rows x 43 columns]"
      ]
     },
     "execution_count": 31,
     "metadata": {},
     "output_type": "execute_result"
    }
   ],
   "source": [
    "flights_ToLA"
   ]
  },
  {
   "cell_type": "code",
   "execution_count": 32,
   "id": "c7715071",
   "metadata": {},
   "outputs": [
    {
     "data": {
      "image/png": "[encoded data removed]",
      "text/plain": [
       "<Figure size 432x288 with 1 Axes>"
      ]
     },
     "metadata": {
      "needs_background": "light"
     },
     "output_type": "display_data"
    }
   ],
   "source": [
    "# Среднее время отклонения прилета в ЛА в разрезе авиакомпаний\n",
    "dep_data = flights_ToLA.groupby('AIRLINE').mean()['how_deviation'].sort_values(ascending=[False])\n",
    "\n",
    "plt.barh(y = dep_data.index, width = dep_data.values)\n",
    "plt.xlabel(\"Среднее отклонение времени прилета\")\n",
    "plt.ylabel(\"Авиакомпания\")\n",
    "plt.title(\"Среднее отклонение времени прилета в Лос-Анджелес по авиакомпаниям\")\n",
    "plt.show()"
   ]
  },
  {
   "cell_type": "markdown",
   "id": "5141cb68",
   "metadata": {},
   "source": [
    "#### Вывод: самая пунктуальная авиакомпания на прилет в Los Angeles International Airport - Alaska Airlines Inc."
   ]
  },
  {
   "cell_type": "markdown",
   "id": "dc832b85",
   "metadata": {},
   "source": [
    "### Задание №3. Определить аэропорт с самой большой долей руления на 1 самолетовылет"
   ]
  },
  {
   "cell_type": "code",
   "execution_count": 33,
   "id": "815956f0",
   "metadata": {},
   "outputs": [],
   "source": [
    "df = df_flights.groupby('ORIG_AIRPORT_NAME').agg({'FLIGHT_NUMBER': ['count'], \n",
    "                                         'TAXI_OUT': ['sum'], \n",
    "                                         'TAXI_IN': ['sum'], \n",
    "                                         'ELAPSED_TIME': ['sum']}).reset_index()\n",
    "\n",
    "df.columns = ['ORIG_AIRPORT_NAME', 'FLIGHT_cnt', 'TAXI_OUT_sum', 'TAXI_IN_sum', 'ELAPSED_sum']"
   ]
  },
  {
   "cell_type": "code",
   "execution_count": 34,
   "id": "a24e2245",
   "metadata": {},
   "outputs": [],
   "source": [
    "# Вычисляем долю руления на 1 самолетовылет в столбце share_of_taxiing\n",
    "df.loc[:, 'share_of_taxiing'] = (df['TAXI_OUT_sum'] + df['TAXI_IN_sum'])/df['ELAPSED_sum']"
   ]
  },
  {
   "cell_type": "code",
   "execution_count": 35,
   "id": "73585247",
   "metadata": {},
   "outputs": [
    {
     "data": {
      "text/html": [
       "<div>\n",
       "<style scoped>\n",
       "    .dataframe tbody tr th:only-of-type {\n",
       "        vertical-align: middle;\n",
       "    }\n",
       "\n",
       "    .dataframe tbody tr th {\n",
       "        vertical-align: top;\n",
       "    }\n",
       "\n",
       "    .dataframe thead th {\n",
       "        text-align: right;\n",
       "    }\n",
       "</style>\n",
       "<table border=\"1\" class=\"dataframe\">\n",
       "  <thead>\n",
       "    <tr style=\"text-align: right;\">\n",
       "      <th></th>\n",
       "      <th>ORIG_AIRPORT_NAME</th>\n",
       "      <th>FLIGHT_cnt</th>\n",
       "      <th>TAXI_OUT_sum</th>\n",
       "      <th>TAXI_IN_sum</th>\n",
       "      <th>ELAPSED_sum</th>\n",
       "      <th>share_of_taxiing</th>\n",
       "    </tr>\n",
       "  </thead>\n",
       "  <tbody>\n",
       "    <tr>\n",
       "      <th>124</th>\n",
       "      <td>Gustavus Airport</td>\n",
       "      <td>76</td>\n",
       "      <td>718.0</td>\n",
       "      <td>369.0</td>\n",
       "      <td>2173.0</td>\n",
       "      <td>0.500230</td>\n",
       "    </tr>\n",
       "    <tr>\n",
       "      <th>203</th>\n",
       "      <td>Muskegon County Airport</td>\n",
       "      <td>680</td>\n",
       "      <td>9747.0</td>\n",
       "      <td>9268.0</td>\n",
       "      <td>39404.0</td>\n",
       "      <td>0.482565</td>\n",
       "    </tr>\n",
       "    <tr>\n",
       "      <th>37</th>\n",
       "      <td>Brainerd Lakes Regional Airport</td>\n",
       "      <td>635</td>\n",
       "      <td>12164.0</td>\n",
       "      <td>3488.0</td>\n",
       "      <td>32686.0</td>\n",
       "      <td>0.478859</td>\n",
       "    </tr>\n",
       "    <tr>\n",
       "      <th>185</th>\n",
       "      <td>McClellan-Palomar Airport</td>\n",
       "      <td>628</td>\n",
       "      <td>7833.0</td>\n",
       "      <td>5675.0</td>\n",
       "      <td>28932.0</td>\n",
       "      <td>0.466888</td>\n",
       "    </tr>\n",
       "    <tr>\n",
       "      <th>81</th>\n",
       "      <td>Dubuque Regional Airport</td>\n",
       "      <td>956</td>\n",
       "      <td>11548.0</td>\n",
       "      <td>15307.0</td>\n",
       "      <td>57555.0</td>\n",
       "      <td>0.466597</td>\n",
       "    </tr>\n",
       "    <tr>\n",
       "      <th>97</th>\n",
       "      <td>Flagstaff Pulliam Airport</td>\n",
       "      <td>1766</td>\n",
       "      <td>30372.0</td>\n",
       "      <td>12774.0</td>\n",
       "      <td>92605.0</td>\n",
       "      <td>0.465914</td>\n",
       "    </tr>\n",
       "    <tr>\n",
       "      <th>235</th>\n",
       "      <td>Pueblo Memorial Airport</td>\n",
       "      <td>253</td>\n",
       "      <td>2978.0</td>\n",
       "      <td>2773.0</td>\n",
       "      <td>12570.0</td>\n",
       "      <td>0.457518</td>\n",
       "    </tr>\n",
       "    <tr>\n",
       "      <th>308</th>\n",
       "      <td>Wichita Falls Municipal Airport/Sheppard AFB</td>\n",
       "      <td>1287</td>\n",
       "      <td>15322.0</td>\n",
       "      <td>13430.0</td>\n",
       "      <td>63023.0</td>\n",
       "      <td>0.456214</td>\n",
       "    </tr>\n",
       "    <tr>\n",
       "      <th>162</th>\n",
       "      <td>Laramie Regional Airport</td>\n",
       "      <td>608</td>\n",
       "      <td>8729.0</td>\n",
       "      <td>4638.0</td>\n",
       "      <td>29435.0</td>\n",
       "      <td>0.454119</td>\n",
       "    </tr>\n",
       "    <tr>\n",
       "      <th>63</th>\n",
       "      <td>Columbus Metropolitan Airport</td>\n",
       "      <td>1172</td>\n",
       "      <td>13709.0</td>\n",
       "      <td>9523.0</td>\n",
       "      <td>51742.0</td>\n",
       "      <td>0.448997</td>\n",
       "    </tr>\n",
       "  </tbody>\n",
       "</table>\n",
       "</div>"
      ],
      "text/plain": [
       "                                ORIG_AIRPORT_NAME  FLIGHT_cnt  TAXI_OUT_sum  \\\n",
       "124                              Gustavus Airport          76         718.0   \n",
       "203                       Muskegon County Airport         680        9747.0   \n",
       "37                Brainerd Lakes Regional Airport         635       12164.0   \n",
       "185                     McClellan-Palomar Airport         628        7833.0   \n",
       "81                       Dubuque Regional Airport         956       11548.0   \n",
       "97                      Flagstaff Pulliam Airport        1766       30372.0   \n",
       "235                       Pueblo Memorial Airport         253        2978.0   \n",
       "308  Wichita Falls Municipal Airport/Sheppard AFB        1287       15322.0   \n",
       "162                      Laramie Regional Airport         608        8729.0   \n",
       "63                  Columbus Metropolitan Airport        1172       13709.0   \n",
       "\n",
       "     TAXI_IN_sum  ELAPSED_sum  share_of_taxiing  \n",
       "124        369.0       2173.0          0.500230  \n",
       "203       9268.0      39404.0          0.482565  \n",
       "37        3488.0      32686.0          0.478859  \n",
       "185       5675.0      28932.0          0.466888  \n",
       "81       15307.0      57555.0          0.466597  \n",
       "97       12774.0      92605.0          0.465914  \n",
       "235       2773.0      12570.0          0.457518  \n",
       "308      13430.0      63023.0          0.456214  \n",
       "162       4638.0      29435.0          0.454119  \n",
       "63        9523.0      51742.0          0.448997  "
      ]
     },
     "execution_count": 35,
     "metadata": {},
     "output_type": "execute_result"
    }
   ],
   "source": [
    "df_head_10 = df.sort_values(by='share_of_taxiing', ascending=False).head(10)\n",
    "df_head_10"
   ]
  },
  {
   "cell_type": "code",
   "execution_count": 36,
   "id": "aaed887b",
   "metadata": {},
   "outputs": [
    {
     "data": {
      "image/png": "[encoded data removed]",
      "text/plain": [
       "<Figure size 432x288 with 1 Axes>"
      ]
     },
     "metadata": {
      "needs_background": "light"
     },
     "output_type": "display_data"
    }
   ],
   "source": [
    "plt.barh(y = df_head_10.ORIG_AIRPORT_NAME, width = df_head_10.share_of_taxiing)\n",
    "plt.xlabel(\"Доля руления\")\n",
    "plt.ylabel(\"Аэропорт\")\n",
    "plt.title(\"Доля руления на 1 самолетовылет\")\n",
    "plt.show()"
   ]
  },
  {
   "cell_type": "code",
   "execution_count": 65,
   "id": "d949b4a7",
   "metadata": {},
   "outputs": [
    {
     "data": {
      "text/plain": [
       "<function matplotlib.pyplot.show(close=None, block=None)>"
      ]
     },
     "execution_count": 65,
     "metadata": {},
     "output_type": "execute_result"
    },
    {
     "data": {
      "image/png": "[encoded data removed]",
      "text/plain": [
       "<Figure size 504x288 with 1 Axes>"
      ]
     },
     "metadata": {
      "needs_background": "light"
     },
     "output_type": "display_data"
    }
   ],
   "source": [
    "from matplotlib.ticker import FormatStrFormatter\n",
    "\n",
    "fig = plt.figure(figsize=(7, 4))\n",
    "ax = fig.add_subplot()\n",
    "ax.xaxis.set_major_formatter(FormatStrFormatter('%0.1f%%'))\n",
    "ax.set_title('Доля руления на 1 самолетовылет по аэропортам')\n",
    "x =  (100*(df_head_10.loc[:, ['share_of_taxiing']])) \n",
    "y = df_head_10.loc[:, 'ORIG_AIRPORT_NAME']\n",
    "plt.plot(x, y, ':o')\n",
    "plt.show"
   ]
  },
  {
   "cell_type": "markdown",
   "id": "f71dd2c3",
   "metadata": {},
   "source": [
    "### Вывод: Аэропорт с самой большой долей руления на 1 самолетовылет - Gustavus Airport"
   ]
  },
  {
   "cell_type": "code",
   "execution_count": null,
   "id": "3d1239d6",
   "metadata": {},
   "outputs": [],
   "source": []
  },
  {
   "cell_type": "markdown",
   "id": "29f53e26",
   "metadata": {},
   "source": [
    "### Задание 4. Построить модель, которая будет выбирать топ-3 аэропорта прилета в зависимости от аэропорта вылета (вероятность опоздания минимальная – RMSE метрика)\n"
   ]
  },
  {
   "cell_type": "code",
   "execution_count": 134,
   "id": "f805345e",
   "metadata": {},
   "outputs": [
    {
     "name": "stdout",
     "output_type": "stream",
     "text": [
      "Wall time: 47 ms\n"
     ]
    }
   ],
   "source": [
    "%%time\n",
    "# Создаем столбец с датой, группируем по дате и аэропорту прилета, суммируем задержку вылета \n",
    "df_flights['dDate'] = df_flights.apply(make_date,axis = 1)\n",
    "flight_grouped = df_flights.groupby(['dDate','DESTINATION_AIRPORT'])['ARRIVAL_DELAY'].sum().reset_index()\n",
    "flight_grouped['dDate'] = pd.to_datetime(flight_grouped['dDate'])"
   ]
  },
  {
   "cell_type": "code",
   "execution_count": 135,
   "id": "d1a36628",
   "metadata": {},
   "outputs": [
    {
     "name": "stdout",
     "output_type": "stream",
     "text": [
      "Wall time: 1min 14s\n"
     ]
    }
   ],
   "source": [
    "%%time\n",
    "from sklearn.ensemble import RandomForestRegressor\n",
    "where_to_go = []\n",
    "for dest in flight_grouped.DESTINATION_AIRPORT.unique():\n",
    "    tempo = flight_grouped[flight_grouped.DESTINATION_AIRPORT==dest][['dDate','ARRIVAL_DELAY']]\n",
    "    tempo.columns = ['dDate','ARRIVAL_DELAY']\n",
    "    tempo = pd.DataFrame(tempo)\n",
    "    \n",
    "    try:\n",
    "    \n",
    "        make_features(tempo,10,3)\n",
    "        tempo.dropna(inplace=True)\n",
    "        tempo.set_index('dDate',inplace=True)\n",
    "        \n",
    "        # Разделяем на тестовый и обучающий набор\n",
    "        X_train,X_test,y_train, y_test = train_test_split(tempo.drop('ARRIVAL_DELAY', axis=1),\n",
    "                                                          tempo.ARRIVAL_DELAY, \n",
    "                                                          shuffle=False, \n",
    "                                                          test_size=0.25)\n",
    "\n",
    "        model_lr = RandomForestRegressor(n_estimators = 10)\n",
    "        #model_lr = GradientBoostingRegressor()\n",
    "        # Обучаем\n",
    "        model_lr.fit(X_train,y_train)\n",
    "        \n",
    "        # Предсказываем\n",
    "        y_predicted_lr = model_lr.predict(X_test)\n",
    "        where_to_go.append([dest, y_test.mean(), np.sqrt(mean_squared_error(y_test, y_predicted_lr))])\n",
    "\n",
    "    except Exception as e:\n",
    "        print('Error', str(e))"
   ]
  },
  {
   "cell_type": "code",
   "execution_count": 136,
   "id": "68614345",
   "metadata": {},
   "outputs": [
    {
     "name": "stdout",
     "output_type": "stream",
     "text": [
      "Wall time: 2.99 ms\n"
     ]
    }
   ],
   "source": [
    "%%time\n",
    "where_to_go = pd.DataFrame(where_to_go)\n",
    "where_to_go.columns = ['DESTINATION_AIRPORT','MEAN_ARRIVAL_DELAY_IN_PAST','RMSE']"
   ]
  },
  {
   "cell_type": "code",
   "execution_count": 131,
   "id": "3c0f706f",
   "metadata": {},
   "outputs": [
    {
     "name": "stdout",
     "output_type": "stream",
     "text": [
      "Лучшие направления из аэропорта RAP\n",
      "\n",
      "  DESTINATION_AIRPORT  MEAN_ARRIVAL_DELAY_IN_PAST         RMSE\n",
      "1                 SLC                   83.415730  1797.605974\n",
      "0                 MSP                  333.752809  2922.426140\n",
      "4                 IAH                 1241.674157  4946.659456\n",
      "Wall time: 342 ms\n"
     ]
    }
   ],
   "source": [
    "%%time\n",
    "start_airport = np.random.choice(df_flights['ORIGIN_AIRPORT'].unique()) \n",
    "where_to_go_from_start_airport = df_flights[df_flights.ORIGIN_AIRPORT==start_airport]['DESTINATION_AIRPORT'].unique()\n",
    "\n",
    "where_to_go_from_start_airport = pd.DataFrame(where_to_go_from_start_airport)\n",
    "where_to_go_from_start_airport.columns = ['DESTINATION_AIRPORT']\n",
    "\n",
    "top3 = where_to_go_from_start_airport\\\n",
    "    .merge(where_to_go,on='DESTINATION_AIRPORT',how='inner')\\\n",
    "    .sort_values(by=['RMSE','MEAN_ARRIVAL_DELAY_IN_PAST'],ascending=[True, True])\\\n",
    "    .head(3)\n",
    "\n",
    "print('Лучшие направления из аэропорта',start_airport)\n",
    "print('')\n",
    "print(top3)"
   ]
  },
  {
   "cell_type": "code",
   "execution_count": 139,
   "id": "aa722c65",
   "metadata": {},
   "outputs": [],
   "source": [
    "from sklearn.model_selection import GridSearchCV\n",
    "\n",
    "tree_para = [\n",
    "{'n_estimators': [3, 10, 30], 'max_features': [2, 4, 6, 8]},\n",
    "{'bootstrap': [False], 'n_estimators': [3, 10], 'max_features': [2, 3, 4]},\n",
    "]"
   ]
  },
  {
   "cell_type": "code",
   "execution_count": 140,
   "id": "ed179358",
   "metadata": {},
   "outputs": [
    {
     "data": {
      "text/plain": [
       "GridSearchCV(cv=5, estimator=RandomForestRegressor(),\n",
       "             param_grid=[{'max_features': [2, 4, 6, 8],\n",
       "                          'n_estimators': [3, 10, 30]},\n",
       "                         {'bootstrap': [False], 'max_features': [2, 3, 4],\n",
       "                          'n_estimators': [3, 10]}],\n",
       "             scoring='neg_mean_squared_error')"
      ]
     },
     "execution_count": 140,
     "metadata": {},
     "output_type": "execute_result"
    }
   ],
   "source": [
    "clf_gs = GridSearchCV(RandomForestRegressor(), tree_para, cv=5, scoring = 'neg_mean_squared_error')\n",
    "clf_gs.fit(X_train, y_train)"
   ]
  },
  {
   "cell_type": "code",
   "execution_count": 141,
   "id": "f9f83fe8",
   "metadata": {},
   "outputs": [
    {
     "data": {
      "text/plain": [
       "{'max_features': 6, 'n_estimators': 10}"
      ]
     },
     "execution_count": 141,
     "metadata": {},
     "output_type": "execute_result"
    }
   ],
   "source": [
    "clf_gs.best_params_"
   ]
  },
  {
   "cell_type": "code",
   "execution_count": 149,
   "id": "2b920cdb",
   "metadata": {},
   "outputs": [
    {
     "data": {
      "text/plain": [
       "RandomForestRegressor(max_features=6, n_estimators=10)"
      ]
     },
     "execution_count": 149,
     "metadata": {},
     "output_type": "execute_result"
    }
   ],
   "source": [
    "clf_gs.best_estimator_"
   ]
  },
  {
   "cell_type": "code",
   "execution_count": 142,
   "id": "79a6863c",
   "metadata": {},
   "outputs": [],
   "source": [
    "model_new = RandomForestRegressor(**clf_gs.best_params_)"
   ]
  },
  {
   "cell_type": "code",
   "execution_count": 143,
   "id": "698c4a65",
   "metadata": {},
   "outputs": [
    {
     "data": {
      "text/plain": [
       "RandomForestRegressor(max_features=6, n_estimators=10)"
      ]
     },
     "execution_count": 143,
     "metadata": {},
     "output_type": "execute_result"
    }
   ],
   "source": [
    "model_new.fit(X_train,y_train)"
   ]
  },
  {
   "cell_type": "code",
   "execution_count": 144,
   "id": "0e33bcfb",
   "metadata": {},
   "outputs": [],
   "source": [
    "new_pred = model_new.predict(X_test)"
   ]
  },
  {
   "cell_type": "code",
   "execution_count": 145,
   "id": "6a4a9ce9",
   "metadata": {},
   "outputs": [],
   "source": [
    "cv = ShuffleSplit(n_splits=10, test_size=0.33, random_state=0)\n",
    "scores = cross_val_score(model_new, X_train, y_train, cv=cv, scoring='neg_mean_squared_error')"
   ]
  },
  {
   "cell_type": "code",
   "execution_count": 146,
   "id": "9858c0c0",
   "metadata": {},
   "outputs": [
    {
     "data": {
      "text/plain": [
       "-1585.0144444444445"
      ]
     },
     "execution_count": 146,
     "metadata": {},
     "output_type": "execute_result"
    }
   ],
   "source": [
    "scores.mean()"
   ]
  },
  {
   "cell_type": "code",
   "execution_count": null,
   "id": "a1f19281",
   "metadata": {},
   "outputs": [],
   "source": []
  },
  {
   "cell_type": "code",
   "execution_count": null,
   "id": "c834145e",
   "metadata": {},
   "outputs": [],
   "source": []
  },
  {
   "cell_type": "code",
   "execution_count": null,
   "id": "450bb494",
   "metadata": {},
   "outputs": [],
   "source": []
  }
 ],
 "metadata": {
  "kernelspec": {
   "display_name": "Python 3",
   "language": "python",
   "name": "python3"
  },
  "language_info": {
   "codemirror_mode": {
    "name": "ipython",
    "version": 3
   },
   "file_extension": ".py",
   "mimetype": "text/x-python",
   "name": "python",
   "nbconvert_exporter": "python",
   "pygments_lexer": "ipython3",
   "version": "3.8.8"
  }
 },
 "nbformat": 4,
 "nbformat_minor": 5
}
