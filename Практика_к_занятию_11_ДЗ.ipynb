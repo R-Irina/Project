{
 "cells": [
  {
   "cell_type": "markdown",
   "metadata": {
    "id": "pDrecLU-4QjS"
   },
   "source": [
    "# Практика"
   ]
  },
  {
   "cell_type": "markdown",
   "metadata": {
    "id": "gUvTNDlMaV-a"
   },
   "source": [
    "## Определение вероятности. События\n",
    "\n",
    "Требуется сгенерировать необходимые выборки и произвести по ним расчеты"
   ]
  },
  {
   "cell_type": "markdown",
   "metadata": {
    "id": "5V70InEBTgup"
   },
   "source": [
    "### Задача 1\n",
    "Брошено две монеты. Найти вероятность того, что монеты выпали разными сторонами"
   ]
  },
  {
   "cell_type": "code",
   "execution_count": 108,
   "metadata": {},
   "outputs": [],
   "source": [
    "import pandas as pd\n",
    "import numpy as np\n",
    "import matplotlib.pyplot as plt\n",
    "import scipy.stats as sts\n",
    "%matplotlib inline"
   ]
  },
  {
   "cell_type": "code",
   "execution_count": 33,
   "metadata": {
    "id": "88Iw-SL3jYQV"
   },
   "outputs": [
    {
     "name": "stdout",
     "output_type": "stream",
     "text": [
      "       m1  m2\n",
      "0       0   0\n",
      "1       1   1\n",
      "2       1   0\n",
      "3       0   0\n",
      "4       1   1\n",
      "...    ..  ..\n",
      "99995   0   1\n",
      "99996   1   1\n",
      "99997   1   1\n",
      "99998   1   0\n",
      "99999   0   1\n",
      "\n",
      "[100000 rows x 2 columns]\n",
      "0.50149\n"
     ]
    }
   ],
   "source": [
    "# 0 принимаем за герб\n",
    "N = 100000\n",
    "rdf = pd.DataFrame({\"m1\": np.random.randint(2, size=N), \"m2\": np.random.randint(2, size=N)})\n",
    "print(rdf)\n",
    "# монеты выпали разными сторонами: \n",
    "filter = ((rdf[\"m1\"] + rdf[\"m2\"]) == 1)\n",
    "print(rdf[filter].shape[0] / N)"
   ]
  },
  {
   "cell_type": "markdown",
   "metadata": {
    "id": "t0XOMos2Tl0e"
   },
   "source": [
    "### Задача 2\n",
    "Брошено три монеты. Описать множество всех элементарных событий. Найти вероятности следующих событий:\n",
    "\n",
    "\n",
    "1.   A = {не выпало ни одного герба}\n",
    "2.   B = {выпало четное число гербов}\n",
    "3.   C = {на третьей монете выпал герб}\n"
   ]
  },
  {
   "cell_type": "code",
   "execution_count": 21,
   "metadata": {
    "id": "o7NjAE9uUo-L"
   },
   "outputs": [
    {
     "name": "stdout",
     "output_type": "stream",
     "text": [
      "        m1  m2  m3\n",
      "0        1   0   0\n",
      "1        0   1   1\n",
      "2        1   0   0\n",
      "3        0   0   0\n",
      "4        1   1   0\n",
      "...     ..  ..  ..\n",
      "999995   1   0   0\n",
      "999996   0   1   1\n",
      "999997   0   0   1\n",
      "999998   0   1   1\n",
      "999999   1   1   1\n",
      "\n",
      "[1000000 rows x 3 columns]\n",
      "0.124627\n",
      "0.500171\n",
      "0.499862\n"
     ]
    }
   ],
   "source": [
    "# 0 принимаем за герб\n",
    "size = 1000000\n",
    "rdf = pd.DataFrame({\"m1\": np.random.randint(2, size=size), \"m2\": np.random.randint(2, size=size), \"m3\": np.random.randint(2, size=size)})\n",
    "print(rdf)\n",
    "\n",
    "# не выпало ни одного герба: \n",
    "filter1 = ((rdf[\"m1\"] + rdf[\"m2\"] + rdf[\"m3\"]) == 3)\n",
    "print(rdf[filter1].shape[0] / size)\n",
    "\n",
    "# выпало четное число гербов: \n",
    "filter2 = ((rdf[\"m1\"] + rdf[\"m2\"] + rdf[\"m3\"]).isin([0,2]))\n",
    "print(rdf[filter2].shape[0] / size)\n",
    "\n",
    "# на третьей монете выпал герб: \n",
    "filter3 = ((rdf[\"m3\"] == 0))\n",
    "print(rdf[filter3].shape[0] / size)"
   ]
  },
  {
   "cell_type": "markdown",
   "metadata": {},
   "source": [
    "Предлагается также решить задачи: \n",
    "\n",
    "### Задача 3\n",
    "Из двух претендентов E и L на ответственную должность три члена комиссии должны отобрать одного. Каждый член комиссии должен указать либо одного достойного, либо забраковать обоих. Претендент считается выбранным, если он был признана достойным хотя бы двумя членами комиссии.\n",
    "Найти вероятность событий:\n",
    "\n",
    "A = {рекомендован L}, B = {рекомендован E}\n"
   ]
  },
  {
   "cell_type": "code",
   "execution_count": 60,
   "metadata": {},
   "outputs": [
    {
     "name": "stdout",
     "output_type": "stream",
     "text": [
      "0        ([N, E, N], N)\n",
      "1        ([L, L, L], L)\n",
      "2        ([N, N, L], N)\n",
      "3        ([L, L, L], L)\n",
      "4        ([E, L, N], N)\n",
      "              ...      \n",
      "99995    ([L, L, L], L)\n",
      "99996    ([L, N, L], L)\n",
      "99997    ([N, N, E], N)\n",
      "99998    ([N, N, N], N)\n",
      "99999    ([N, N, L], N)\n",
      "Length: 100000, dtype: object\n",
      "Рекомендован кандидат E: 25969, 25.97%\n",
      "Рекомендован кандидат L: 25867, 25.87%\n",
      "Никто не рекомендован: 48164, 48.16%\n"
     ]
    }
   ],
   "source": [
    "def getrnd():\n",
    "    arr = [\"E\", \"L\", \"N\"]\n",
    "    rnds = pd.Series(np.random.choice(arr, size=3))\n",
    "    ser = rnds.value_counts()\n",
    "    i = ser.idxmax()\n",
    "    v = ser[i]\n",
    "    return rnds, (i if v >= 2 else \"N\")\n",
    "\n",
    "count = 100000\n",
    "res = pd.Series(index=range(count), dtype=str)\n",
    "res = res.apply(lambda x: getrnd())\n",
    "print(res)\n",
    "res = res.apply(lambda x: x[1])\n",
    "cs = res.value_counts()\n",
    "\n",
    "e, l, n = cs.loc[\"E\"], cs.loc[\"L\"], cs.loc[\"N\"]\n",
    "print(\"Рекомендован кандидат E: {}, {:.2%}\".format(e, e/count))\n",
    "print(\"Рекомендован кандидат L: {}, {:.2%}\".format(l, l/count))\n",
    "print(\"Никто не рекомендован: {}, {:.2%}\".format(n, n/count))"
   ]
  },
  {
   "cell_type": "markdown",
   "metadata": {
    "id": "peM38mVfYa5B"
   },
   "source": [
    "### Задача 4\n",
    "Брошено две игральных кости. Описать множество элементарных событий. Найти вероятности событий:\n",
    "\n",
    "A = {вышло две \"шестерки\"}\n",
    "\n",
    "B = {сумма выпавших очков не меньше 11}\n",
    "\n",
    "C = {не выпала ни одна \"шестерка\"}"
   ]
  },
  {
   "cell_type": "code",
   "execution_count": 59,
   "metadata": {},
   "outputs": [
    {
     "name": "stdout",
     "output_type": "stream",
     "text": [
      "        m1  m2\n",
      "0        3   4\n",
      "1        4   6\n",
      "2        2   6\n",
      "3        4   1\n",
      "4        1   6\n",
      "...     ..  ..\n",
      "999995   3   6\n",
      "999996   4   6\n",
      "999997   5   2\n",
      "999998   3   1\n",
      "999999   3   1\n",
      "\n",
      "[1000000 rows x 2 columns]\n",
      "2.79%\n",
      "8.35%\n",
      "69.41%\n"
     ]
    }
   ],
   "source": [
    "N = 1000000\n",
    "arr = [1, 2, 3, 4, 5, 6]\n",
    "rdf = pd.DataFrame({\"m1\": np.random.choice(arr, size=N), \"m2\": np.random.choice(arr, size=N)})\n",
    "print(rdf)\n",
    "\n",
    "# выпало две \"шестерки\": \n",
    "filter1 = ((rdf[\"m1\"] + rdf[\"m2\"]) == 12)\n",
    "print(\"{:.2%}\".format(rdf[filter1].shape[0] / N))\n",
    "\n",
    "# сумма выпавших очков не меньше 11: \n",
    "filter2 = ((rdf[\"m1\"] + rdf[\"m2\"]) >= 11)\n",
    "print(\"{:.2%}\".format(rdf[filter2].shape[0] / N))\n",
    "\n",
    "# не выпала ни одна \"шестерка\": \n",
    "filter3 = ((rdf[\"m1\"] < 6) & (rdf[\"m2\"] < 6))\n",
    "print(\"{:.2%}\".format(rdf[filter3].shape[0] / N))"
   ]
  },
  {
   "cell_type": "markdown",
   "metadata": {
    "id": "f-Bi0p8haclB"
   },
   "source": [
    "## Вероятность суммы событий"
   ]
  },
  {
   "cell_type": "markdown",
   "metadata": {
    "id": "g7A7QlvGTnwZ"
   },
   "source": [
    "### Задача 5\n",
    "Брошены две игральные кости. Найти вероятность события D = {выпала хотя бы одна шестёрка}\n"
   ]
  },
  {
   "cell_type": "code",
   "execution_count": 62,
   "metadata": {
    "id": "vjtTJN-kUp9D"
   },
   "outputs": [
    {
     "name": "stdout",
     "output_type": "stream",
     "text": [
      "30.59%\n"
     ]
    }
   ],
   "source": [
    "# выпала хотя бы одна \"шестерка\": \n",
    "filter4 = ((rdf[\"m1\"] == 6) | (rdf[\"m2\"] == 6))\n",
    "print(\"{:.2%}\".format(rdf[filter4].shape[0] / N))"
   ]
  },
  {
   "cell_type": "markdown",
   "metadata": {
    "id": "R1bYSzQQbC6I"
   },
   "source": [
    "Предлагается также решить задачи: \n",
    "\n",
    "### Задача 6\n",
    "В телефонном номере три последние цифры стерлись. Считая, что все возможные значения стершихся цифр равновероятны, найти вероятность событий:\n",
    "\n",
    "A = {Стерлись различные цифры},\n",
    "\n",
    "B = {Стерлись одинаковые цифры},\n",
    "\n",
    "C = {Среди стершихся цифр хотя бы две совпадают},\n",
    "\n",
    "D = {Среди стершихся цифр хотя бы две различны}\n"
   ]
  },
  {
   "cell_type": "code",
   "execution_count": 107,
   "metadata": {},
   "outputs": [
    {
     "name": "stdout",
     "output_type": "stream",
     "text": [
      "        num1  num2  num3\n",
      "0          9     9     7\n",
      "1          9     5     7\n",
      "2          8     9     6\n",
      "3          4     9     7\n",
      "4          4     6     5\n",
      "...      ...   ...   ...\n",
      "999995     2     7     8\n",
      "999996     2     9     5\n",
      "999997     2     2     9\n",
      "999998     6     2     6\n",
      "999999     6     0     9\n",
      "\n",
      "[1000000 rows x 3 columns]\n",
      "Вероятность, что стерлись различные цифры: 71.99%\n",
      "Вероятность, что стерлись одинаковые цифры: 1.01%\n",
      "Вероятность, что среди стершихся цифр хотя бы две совпадают: 28.01%\n",
      "Вероятность, что среди стершихся цифр хотя бы две различны: 98.99%\n"
     ]
    }
   ],
   "source": [
    "N = 1000000\n",
    "arr = [0, 1, 2, 3, 4, 5, 6, 7, 8, 9]\n",
    "rdf = pd.DataFrame({\"num1\": np.random.choice(arr, size=N), \"num2\": np.random.choice(arr, size=N), \"num3\": np.random.choice(arr, size=N)})\n",
    "print(rdf)\n",
    "filterA = ((rdf[\"num1\"] != rdf[\"num2\"]) & (rdf[\"num2\"] != rdf[\"num3\"]) & (rdf[\"num1\"] != rdf[\"num3\"]))\n",
    "P_A = rdf[filterA].shape[0] / N\n",
    "print(\"Вероятность, что стерлись различные цифры: {:.2%}\".format(P_A))\n",
    "\n",
    "filterB = ((rdf[\"num1\"] == rdf[\"num2\"]) & (rdf[\"num2\"] == rdf[\"num3\"]))\n",
    "P_B = rdf[filterB].shape[0] / N\n",
    "print(\"Вероятность, что стерлись одинаковые цифры: {:.2%}\".format(P_B))\n",
    "\n",
    "print(\"Вероятность, что среди стершихся цифр хотя бы две совпадают: {:.2%}\".format(1-P_A))\n",
    "print(\"Вероятность, что среди стершихся цифр хотя бы две различны: {:.2%}\".format(1-P_B))"
   ]
  },
  {
   "cell_type": "markdown",
   "metadata": {
    "id": "RnugkR8BalK_"
   },
   "source": [
    "## Случайные величины"
   ]
  },
  {
   "cell_type": "markdown",
   "metadata": {
    "id": "yLoZDZ17UVsp"
   },
   "source": [
    "### Задача 7\n",
    "В лотерее имеется 10 билетов, из которых один выигрышный. Размер выигрыша 10 ден. ед.; стоимость билета 1 ден ед. Найти закон распределения случайной величины X, равной чистому выигрышу участника лотереи, который вытаскивает билет первым."
   ]
  },
  {
   "cell_type": "code",
   "execution_count": 93,
   "metadata": {
    "id": "oNk432sKUqzT"
   },
   "outputs": [
    {
     "name": "stdout",
     "output_type": "stream",
     "text": [
      "Вероятность выигрыша: 9.89%\n"
     ]
    },
    {
     "data": {
      "text/plain": [
       "[<matplotlib.lines.Line2D at 0x23f69f80670>]"
      ]
     },
     "execution_count": 93,
     "metadata": {},
     "output_type": "execute_result"
    },
    {
     "data": {
      "image/png": "[encoded data removed]",
      "text/plain": [
       "<Figure size 432x288 with 1 Axes>"
      ]
     },
     "metadata": {
      "needs_background": "light"
     },
     "output_type": "display_data"
    }
   ],
   "source": [
    "N = 100000\n",
    "arr = [-1, -1, -1, -1, -1, -1, -1, -1, -1, 9]\n",
    "rdf = pd.DataFrame({\"win\": np.random.choice(arr, size=N)})\n",
    "filter = ((rdf[\"win\"]) == 9)\n",
    "print(\"Вероятность выигрыша: {:.2%}\".format(rdf[filter].shape[0] / N))\n",
    "plt.plot(rdf[\"win\"].value_counts().sort_index())"
   ]
  },
  {
   "cell_type": "markdown",
   "metadata": {
    "id": "U-NK9liSbpvb"
   },
   "source": [
    "Предлагается также решить задачу: \n",
    "\n",
    "### Задача 8\n",
    "Брошены две игральные кости. Найти закон распределения случайной величины $X$, равной сумме выпавших очков. Найти вероятности событий ${X <= 4}$, ${X > 4}$"
   ]
  },
  {
   "cell_type": "code",
   "execution_count": 89,
   "metadata": {},
   "outputs": [
    {
     "name": "stdout",
     "output_type": "stream",
     "text": [
      "        m1  m2  m3\n",
      "0        4   4   8\n",
      "1        1   5   6\n",
      "2        5   4   9\n",
      "3        6   4  10\n",
      "4        5   3   8\n",
      "...     ..  ..  ..\n",
      "999995   2   1   3\n",
      "999996   1   5   6\n",
      "999997   5   4   9\n",
      "999998   5   4   9\n",
      "999999   3   5   8\n",
      "\n",
      "[1000000 rows x 3 columns]\n",
      "16.72%\n",
      "83.28%\n"
     ]
    },
    {
     "data": {
      "text/plain": [
       "[<matplotlib.lines.Line2D at 0x23f697a8430>]"
      ]
     },
     "execution_count": 89,
     "metadata": {},
     "output_type": "execute_result"
    },
    {
     "data": {
      "image/png": "[encoded data removed]",
      "text/plain": [
       "<Figure size 432x288 with 1 Axes>"
      ]
     },
     "metadata": {
      "needs_background": "light"
     },
     "output_type": "display_data"
    }
   ],
   "source": [
    "N = 1000000\n",
    "arr = [1, 2, 3, 4, 5, 6]\n",
    "rdf = pd.DataFrame({\"m1\": np.random.choice(arr, size=N), \"m2\": np.random.choice(arr, size=N)})\n",
    "rdf[\"m3\"] = rdf[\"m1\"] + rdf[\"m2\"]\n",
    "print(rdf)\n",
    "# сумма выпавших очков <= 4: \n",
    "filter = ((rdf[\"m3\"]) <= 4)\n",
    "print(\"{:.2%}\".format(rdf[filter].shape[0] / N))\n",
    "\n",
    "# сумма выпавших очков > 4:\n",
    "filter = ((rdf[\"m3\"]) > 4)\n",
    "print(\"{:.2%}\".format(rdf[filter].shape[0] / N))\n",
    "\n",
    "plt.plot(rdf[\"m3\"].value_counts().sort_index())"
   ]
  },
  {
   "cell_type": "markdown",
   "metadata": {
    "id": "shgW4D83awjK"
   },
   "source": [
    "## Условные вероятности"
   ]
  },
  {
   "cell_type": "markdown",
   "metadata": {
    "id": "Fbu1RFZwWZrk"
   },
   "source": [
    "### Задача 9\n",
    "Из колоды (36 карт) вынимают последовательно без возвращения две карты. Найти вероятность того, что первой картой была шестерка, а второй — семерка. Найти условную вероятность того же события при условии, что обе карты бубновой масти.\n"
   ]
  },
  {
   "cell_type": "code",
   "execution_count": 27,
   "metadata": {
    "id": "037o56awW9-E"
   },
   "outputs": [
    {
     "name": "stdout",
     "output_type": "stream",
     "text": [
      "            card\n",
      "0         6 пики\n",
      "1      туз черви\n",
      "2         7 пики\n",
      "3        8 трефы\n",
      "4        8 черви\n",
      "...          ...\n",
      "99995    7 трефы\n",
      "99996    8 трефы\n",
      "99997    7 бубны\n",
      "99998    6 черви\n",
      "99999    9 трефы\n",
      "\n",
      "[100000 rows x 1 columns]\n",
      "Вероятность того, что первой картой была шестерка, а второй семерка: 1.23%\n",
      "Вероятность того, что обе карты бубновой масти: 0.08%\n"
     ]
    }
   ],
   "source": [
    "N = 100000\n",
    "nominals = ['6', '7', '8', '9', '10', 'валет', 'дама', 'король', 'туз']\n",
    "colour = ['пики', 'трефы', 'бубны', 'черви']\n",
    "from itertools import product\n",
    "df = [\"{} {}\".format(*card) for card in product(nominals, colour)]\n",
    "rdf = pd.DataFrame({\"card\": np.random.choice(df, size=N)})\n",
    "print(rdf)\n",
    "\n",
    "filter1 = rdf[\"card\"].str.startswith('6')\n",
    "p1 = rdf[filter1].shape[0] / N  #вероятность того, что первой была шестерка\n",
    "filter2 = rdf[\"card\"].str.startswith('7')\n",
    "p2 = rdf[filter2].shape[0] / (N-1) #вероятность того, что второй была семерка\n",
    "print(\"Вероятность того, что первой картой была шестерка, а второй семерка: {:.2%}\".format(p1*p2))\n",
    "\n",
    "filter1 = (rdf[\"card\"] == '6 бубны')\n",
    "p1 = rdf[filter1].shape[0] / N   #вероятность того, что первой была бубновая шестерка\n",
    "filter2 = (rdf[\"card\"] == '7 бубны')\n",
    "p2 = rdf[filter2].shape[0] / (N-1) #вероятность того, что второй была бубновая семерка\n",
    "print(\"Вероятность того, что обе карты бубновой масти: {:.2%}\".format(p1*p2))"
   ]
  },
  {
   "cell_type": "markdown",
   "metadata": {
    "id": "hNVxtaz5c57b"
   },
   "source": [
    "Предлагается также решить задачу: \n",
    "\n",
    "### Задача 10\n",
    "Из урны, содержащей два белых и три черных шара, последовательно извлекают два шара; вынутые шары не возвращаются. Если первый шар оказался черным, то перед вторым извлечением в урну добавляют белый шар. В противном случае состав оставшихся шаров не меняют. Найти вероятности событий:\n",
    "\n",
    "$A$ = {извлечены два белых шара},\n",
    "\n",
    "$B$ = {извлечены два черных шара}\n",
    "\n",
    "Указание. Пусть событие $C_1$ = {первый шар белый}, событие $C_2$ = {второй шар белый}. Тогда $A = C_1C_2$, $B = \\overline C_1 \\overline C_2$ "
   ]
  },
  {
   "cell_type": "code",
   "execution_count": 88,
   "metadata": {
    "scrolled": true
   },
   "outputs": [
    {
     "name": "stdout",
     "output_type": "stream",
     "text": [
      "Вероятность того, что извлечены два белых шара: 9.99%\n",
      "Вероятность того, что извлечены два черных шара: 24.00%\n"
     ]
    }
   ],
   "source": [
    "N = 1000000\n",
    "rdf = pd.DataFrame({\"balls\": np.random.choice(['W', 'W', 'B', 'B', 'B'], size=N)})\n",
    "\n",
    "filter1 = (rdf[\"balls\"] == 'W')\n",
    "p1 = (rdf1[filter1].shape[0] / N) # вероятность того, что первый шар белый или второй черный\n",
    "\n",
    "new_rdf = pd.DataFrame({\"balls\": np.random.choice(['W', 'B', 'B', 'B'], size=N)})\n",
    "filter2 = (new_rdf[\"balls\"] == 'W')\n",
    "p2 = (new_rdf[filter2].shape[0] / N) # вероятность того, что второй шар белый\n",
    "\n",
    "print(\"Вероятность того, что извлечены два белых шара: {:.2%}\".format(p1*p2))\n",
    "print(\"Вероятность того, что извлечены два черных шара: {:.2%}\".format(p1*(1-p1)))\n"
   ]
  }
 ],
 "metadata": {
  "colab": {
   "collapsed_sections": [],
   "name": "Практика к занятию 11.ipynb",
   "provenance": []
  },
  "kernelspec": {
   "display_name": "Python 3",
   "language": "python",
   "name": "python3"
  },
  "language_info": {
   "codemirror_mode": {
    "name": "ipython",
    "version": 3
   },
   "file_extension": ".py",
   "mimetype": "text/x-python",
   "name": "python",
   "nbconvert_exporter": "python",
   "pygments_lexer": "ipython3",
   "version": "3.8.8"
  }
 },
 "nbformat": 4,
 "nbformat_minor": 1
}
